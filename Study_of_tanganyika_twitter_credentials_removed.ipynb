{
  "nbformat": 4,
  "nbformat_minor": 0,
  "metadata": {
    "colab": {
      "name": "Study_of_tanganyika_twitter_credentials_removed.ipynb",
      "provenance": [],
      "collapsed_sections": [
        "CVTT42yEW9BI",
        "5zV6eMavXZB6",
        "eYUR4HUeL1jM",
        "Yjt_slHc6FcP"
      ],
      "machine_shape": "hm"
    },
    "kernelspec": {
      "name": "python3",
      "display_name": "Python 3"
    },
    "language_info": {
      "name": "python"
    }
  },
  "cells": [
    {
      "cell_type": "markdown",
      "metadata": {
        "id": "kgIxtAQfC9Tp"
      },
      "source": [
        "# Import Python packages needed for this pilot proposal"
      ]
    },
    {
      "cell_type": "code",
      "metadata": {
        "id": "E96Nv_M0BaJP"
      },
      "source": [
        "# General:\n",
        "import tweepy           # To consume Twitter's API\n",
        "import pandas as pd     # To handle data\n",
        "import numpy as np      # For number computing\n",
        "\n",
        "# For plotting and visualization:\n",
        "from IPython.display import display\n",
        "import matplotlib.pyplot as plt\n",
        "import seaborn as sns\n",
        "%matplotlib inline\n",
        "import pickle\n"
      ],
      "execution_count": null,
      "outputs": []
    },
    {
      "cell_type": "markdown",
      "metadata": {
        "id": "fQKmCPAtDGrE"
      },
      "source": [
        "### The following credentials from my personal twitter developer account, with tag dingkaihua. Twitter server changes token often. If interested, the twitter developer application link is here developers https://developer.twitter.com/en/apply-for-access."
      ]
    },
    {
      "cell_type": "code",
      "metadata": {
        "id": "mJY9XfChBih9"
      },
      "source": [
        "# Twitter App access keys for @dingkaihua\n",
        "\n",
        "# Consume:\n",
        "CONSUMER_KEY    = 'XXX'\n",
        "CONSUMER_SECRET = 'XXX'\n",
        "\n",
        "# Access:\n",
        "ACCESS_TOKEN  = 'XXX'\n",
        "ACCESS_SECRET = 'XXX'\n"
      ],
      "execution_count": null,
      "outputs": []
    },
    {
      "cell_type": "code",
      "metadata": {
        "id": "BqNK6Qici9MY"
      },
      "source": [
        "#Authenticate\n",
        "auth = tweepy.OAuthHandler(CONSUMER_KEY, CONSUMER_SECRET)\n",
        "auth.set_access_token(ACCESS_TOKEN, ACCESS_SECRET)\n",
        "api = tweepy.API(auth)"
      ],
      "execution_count": null,
      "outputs": []
    },
    {
      "cell_type": "markdown",
      "metadata": {
        "id": "ByxDUfpsD949"
      },
      "source": [
        "# The \"credentials\" packages makes access more convenient"
      ]
    },
    {
      "cell_type": "code",
      "metadata": {
        "colab": {
          "base_uri": "https://localhost:8080/"
        },
        "id": "L2JOa585INc4",
        "outputId": "0fd1a9dd-f57f-463b-892d-bf5294121891"
      },
      "source": [
        "!pip install credentials"
      ],
      "execution_count": null,
      "outputs": [
        {
          "output_type": "stream",
          "text": [
            "Requirement already satisfied: credentials in /usr/local/lib/python3.7/dist-packages (1.1)\n"
          ],
          "name": "stdout"
        }
      ]
    },
    {
      "cell_type": "code",
      "metadata": {
        "id": "-RQm6dDBIGTL"
      },
      "source": [
        "# Import our access keys:\n",
        "from credentials import *    # This will allow us to use the keys as variables\n",
        "\n",
        "# API's setup:\n",
        "def twitter_setup():\n",
        "    \"\"\"\n",
        "    Utility function to setup the Twitter's API\n",
        "    with our access keys provided.\n",
        "    \"\"\"\n",
        "    # Authentication and access using keys:\n",
        "    auth = tweepy.OAuthHandler(CONSUMER_KEY, CONSUMER_SECRET)\n",
        "    auth.set_access_token(ACCESS_TOKEN, ACCESS_SECRET)\n",
        "\n",
        "    # Return API with authentication:\n",
        "    api = tweepy.API(auth)\n",
        "    return api\n"
      ],
      "execution_count": null,
      "outputs": []
    },
    {
      "cell_type": "code",
      "metadata": {
        "colab": {
          "base_uri": "https://localhost:8080/"
        },
        "id": "z8JLkXGeiC1y",
        "outputId": "edaeb688-829f-4238-8282-69f0be5ada66"
      },
      "source": [
        "!pip install --upgrade git+https://github.com/tweepy/tweepy@master"
      ],
      "execution_count": null,
      "outputs": [
        {
          "output_type": "stream",
          "text": [
            "Collecting git+https://github.com/tweepy/tweepy@master\n",
            "  Cloning https://github.com/tweepy/tweepy (to revision master) to /tmp/pip-req-build-sg84uqi4\n",
            "  Running command git clone -q https://github.com/tweepy/tweepy /tmp/pip-req-build-sg84uqi4\n",
            "Requirement already satisfied: requests<3,>=2.11.1 in /usr/local/lib/python3.7/dist-packages (from tweepy==4.0.0a0) (2.23.0)\n",
            "Requirement already satisfied: requests_oauthlib<2,>=1.0.0 in /usr/local/lib/python3.7/dist-packages (from tweepy==4.0.0a0) (1.3.0)\n",
            "Requirement already satisfied: chardet<4,>=3.0.2 in /usr/local/lib/python3.7/dist-packages (from requests<3,>=2.11.1->tweepy==4.0.0a0) (3.0.4)\n",
            "Requirement already satisfied: urllib3!=1.25.0,!=1.25.1,<1.26,>=1.21.1 in /usr/local/lib/python3.7/dist-packages (from requests<3,>=2.11.1->tweepy==4.0.0a0) (1.24.3)\n",
            "Requirement already satisfied: certifi>=2017.4.17 in /usr/local/lib/python3.7/dist-packages (from requests<3,>=2.11.1->tweepy==4.0.0a0) (2021.5.30)\n",
            "Requirement already satisfied: idna<3,>=2.5 in /usr/local/lib/python3.7/dist-packages (from requests<3,>=2.11.1->tweepy==4.0.0a0) (2.10)\n",
            "Requirement already satisfied: oauthlib>=3.0.0 in /usr/local/lib/python3.7/dist-packages (from requests_oauthlib<2,>=1.0.0->tweepy==4.0.0a0) (3.1.1)\n"
          ],
          "name": "stdout"
        }
      ]
    },
    {
      "cell_type": "code",
      "metadata": {
        "id": "Ydn_AQ8_iReF"
      },
      "source": [
        "#search_words ='**KEYWORD/HASHTAG/USERNAME**'\n",
        "search_words ='Tanganyika'\n",
        "date_since = \"01-01-2020\"\n",
        "date_since_pro = \"202008130000\"\n",
        "numTweets = 3000\n",
        "\n",
        "# standart search\n",
        "#tweets = tweepy.Cursor(api.search_tweets, q=search_words, since=date_since).items(numTweets)\n",
        "\n",
        "# premium search\n",
        "#tweets=tweepy.Cursor(api.search_full_archive,environment_name='**ENV NAME FROM API**', query=search_words, fromDate=date_since_pro).items(numTweets)\n"
      ],
      "execution_count": null,
      "outputs": []
    },
    {
      "cell_type": "code",
      "metadata": {
        "id": "a3zPRji-oqV_"
      },
      "source": [
        "results_tanganyika = api.search_tweets(q=search_words,\n",
        "                  count=numTweets,\n",
        "                  since_id=date_since)"
      ],
      "execution_count": null,
      "outputs": []
    },
    {
      "cell_type": "markdown",
      "metadata": {
        "id": "nYt7WFHE-Y2Q"
      },
      "source": [
        "Save tweet search results"
      ]
    },
    {
      "cell_type": "code",
      "metadata": {
        "id": "YZLkap_P-cSW"
      },
      "source": [
        "\n",
        "with open('/content/drive/MyDrive/Colab_Notebooks/Baris_Ata/tweet_search.pkl', 'wb') as f:\n",
        "  pickle.dump(results_tanganyika, f)"
      ],
      "execution_count": null,
      "outputs": []
    },
    {
      "cell_type": "markdown",
      "metadata": {
        "id": "R8GHqC8k-Ufe"
      },
      "source": [
        "#Process tweets and write out a data frame"
      ]
    },
    {
      "cell_type": "markdown",
      "metadata": {
        "id": "G8IJ37uGxngm"
      },
      "source": [
        "Turn search results into json"
      ]
    },
    {
      "cell_type": "code",
      "metadata": {
        "id": "AYLGAhT5vlTy"
      },
      "source": [
        "# prepare a list of tweet_json\n",
        "tweet_json = []\n",
        "\n",
        "for tweet_search in results_tanganyika:\n",
        "  tweet_json.append(tweet_search._json)\n"
      ],
      "execution_count": null,
      "outputs": []
    },
    {
      "cell_type": "code",
      "metadata": {
        "id": "mbthrveUeVT5"
      },
      "source": [
        "from textblob import TextBlob"
      ],
      "execution_count": null,
      "outputs": []
    },
    {
      "cell_type": "code",
      "metadata": {
        "colab": {
          "base_uri": "https://localhost:8080/"
        },
        "id": "4RAlkTcRt6mM",
        "outputId": "5b117a39-8025-49ba-e02f-9d471e644589"
      },
      "source": [
        "!pip install emoji"
      ],
      "execution_count": null,
      "outputs": [
        {
          "output_type": "stream",
          "text": [
            "Requirement already satisfied: emoji in /usr/local/lib/python3.7/dist-packages (1.4.2)\n"
          ],
          "name": "stdout"
        }
      ]
    },
    {
      "cell_type": "markdown",
      "metadata": {
        "id": "kt8G8hKT_Su9"
      },
      "source": [
        ""
      ]
    },
    {
      "cell_type": "code",
      "metadata": {
        "colab": {
          "base_uri": "https://localhost:8080/"
        },
        "id": "IUNwJJMojuBy",
        "outputId": "990e9b12-023b-401c-d4f9-52e1e2a4700d"
      },
      "source": [
        "import pandas as pd\n",
        "import re\n",
        "import emoji\n",
        "import nltk\n",
        "nltk.download('words')\n",
        "words = set(nltk.corpus.words.words())"
      ],
      "execution_count": null,
      "outputs": [
        {
          "output_type": "stream",
          "text": [
            "[nltk_data] Downloading package words to /root/nltk_data...\n",
            "[nltk_data]   Package words is already up-to-date!\n"
          ],
          "name": "stdout"
        }
      ]
    },
    {
      "cell_type": "code",
      "metadata": {
        "id": "s3zZUq5DitMt"
      },
      "source": [
        "def cleaner(tweet):\n",
        "    tweet = re.sub(\"@[A-Za-z0-9]+\",\"\",tweet) #Remove @ sign\n",
        "    tweet = re.sub(r\"(?:\\@|http?\\://|https?\\://|www)\\S+\", \"\", tweet) #Remove http links\n",
        "    tweet = \" \".join(tweet.split())\n",
        "    tweet = ''.join(c for c in tweet if c not in emoji.UNICODE_EMOJI) #Remove Emojis\n",
        "    tweet = tweet.replace(\"#\", \"\").replace(\"_\", \" \") #Remove hashtag sign but keep the text\n",
        "    tweet = \" \".join(w for w in nltk.wordpunct_tokenize(tweet) \\\n",
        "         if w.lower() in words or not w.isalpha())\n",
        "    return tweet"
      ],
      "execution_count": null,
      "outputs": []
    },
    {
      "cell_type": "code",
      "metadata": {
        "id": "V-5mpXRJveKT"
      },
      "source": [
        "import textblob.exceptions\n",
        "\n",
        "\n",
        "usr_name = []\n",
        "usr_location = []\n",
        "tweet_text = []\n",
        "tweet_text_en = []\n",
        "tweet_geo =[]\n",
        "tweet_place = []\n",
        "lang = []\n",
        "tweet_time=[]\n",
        "\n",
        "for tweet in tweet_json:\n",
        "  usr_name.append(tweet['user']['name'])\n",
        "  usr_location.append(tweet['user']['location'])\n",
        "  tweet_text.append(cleaner(tweet['text']))\n",
        "  lang.append(tweet['lang'])\n",
        "  if (tweet['lang'] == 'en') or  (tweet['lang'] == 'eu') or (tweet['lang'] == 'in'):\n",
        "    tweet_text_en.append(tweet['text'])\n",
        "  else:  \n",
        "    blob = TextBlob(cleaner(tweet['text']))\n",
        "    try:\n",
        "      tweet_text_en.append(blob.translate(to='en'))\n",
        "    except textblob.exceptions.NotTranslated:\n",
        "      tweet_text_en.append(tweet['text'])\n",
        "  \n",
        "  tweet_geo.append(tweet['geo'])\n",
        "  tweet_time.append(tweet['created_at'])\n",
        "  "
      ],
      "execution_count": null,
      "outputs": []
    },
    {
      "cell_type": "code",
      "metadata": {
        "id": "_DZdqTm1cVHV"
      },
      "source": [
        "# create data frame for the ease of viewing things\n",
        "\n",
        "tweet_df = pd.DataFrame()\n",
        "tweet_df['User Name'] = usr_name\n",
        "tweet_df['User Location'] = usr_location\n",
        "tweet_df['Text'] = tweet_text\n",
        "tweet_df['English Text'] = tweet_text_en\n",
        "\n",
        "tweet_df['Language'] = lang\n",
        "tweet_df['Time'] = tweet_time\n",
        "tweet_df['geo'] = tweet_geo"
      ],
      "execution_count": null,
      "outputs": []
    },
    {
      "cell_type": "code",
      "metadata": {
        "id": "Q5zrey_GCTjL"
      },
      "source": [
        "with open('/content/drive/MyDrive/Colab_Notebooks/Baris_Ata/processed_tweets.pkl', 'wb') as f:\n",
        "  pickle.dump(tweet_df, f)\n",
        "\n",
        "\n"
      ],
      "execution_count": null,
      "outputs": []
    },
    {
      "cell_type": "code",
      "metadata": {
        "colab": {
          "base_uri": "https://localhost:8080/"
        },
        "id": "qqlzd-0IyF9d",
        "outputId": "141ac071-a48a-4cd1-f966-3952221270d1"
      },
      "source": [
        "len(tweet_json[0].keys())"
      ],
      "execution_count": null,
      "outputs": [
        {
          "output_type": "execute_result",
          "data": {
            "text/plain": [
              "25"
            ]
          },
          "metadata": {},
          "execution_count": 43
        }
      ]
    },
    {
      "cell_type": "markdown",
      "metadata": {
        "id": "WwPoQLIAjZ0j"
      },
      "source": [
        "# Named entitiy recognition"
      ]
    },
    {
      "cell_type": "code",
      "metadata": {
        "id": "o-wcWBYqGv8L"
      },
      "source": [
        "import pickle\n",
        "import re"
      ],
      "execution_count": null,
      "outputs": []
    },
    {
      "cell_type": "code",
      "metadata": {
        "colab": {
          "base_uri": "https://localhost:8080/"
        },
        "id": "-CLYzXgCF65Z",
        "outputId": "d45fffe5-b258-4598-f1a6-1d9fcb1f2f19"
      },
      "source": [
        "from google.colab import drive\n",
        "drive.mount('/content/drive')"
      ],
      "execution_count": null,
      "outputs": [
        {
          "output_type": "stream",
          "text": [
            "Drive already mounted at /content/drive; to attempt to forcibly remount, call drive.mount(\"/content/drive\", force_remount=True).\n"
          ],
          "name": "stdout"
        }
      ]
    },
    {
      "cell_type": "code",
      "metadata": {
        "colab": {
          "base_uri": "https://localhost:8080/"
        },
        "id": "CUyAP9pcHbSg",
        "outputId": "6aa06f95-1635-4241-de25-3ca95e51c67b"
      },
      "source": [
        "!ls /content/drive/MyDrive/Colab_Notebooks/Baris_Ata/processed_tweets.pkl"
      ],
      "execution_count": null,
      "outputs": [
        {
          "output_type": "stream",
          "text": [
            "/content/drive/MyDrive/Colab_Notebooks/Baris_Ata/processed_tweets.pkl\n"
          ],
          "name": "stdout"
        }
      ]
    },
    {
      "cell_type": "code",
      "metadata": {
        "id": "9Jb6W00jFxro"
      },
      "source": [
        "with open('/content/drive/MyDrive/Colab_Notebooks/Baris_Ata/processed_tweets.pkl', 'rb') as f:\n",
        "  tweet_df = pickle.load(f)"
      ],
      "execution_count": null,
      "outputs": []
    },
    {
      "cell_type": "code",
      "metadata": {
        "colab": {
          "base_uri": "https://localhost:8080/",
          "height": 363
        },
        "id": "oI0A2qgVF4Jx",
        "outputId": "c49b52eb-6b3b-4d99-e442-18fbb64711a0"
      },
      "source": [
        "tweet_df.head(10)"
      ],
      "execution_count": null,
      "outputs": [
        {
          "output_type": "execute_result",
          "data": {
            "text/html": [
              "<div>\n",
              "<style scoped>\n",
              "    .dataframe tbody tr th:only-of-type {\n",
              "        vertical-align: middle;\n",
              "    }\n",
              "\n",
              "    .dataframe tbody tr th {\n",
              "        vertical-align: top;\n",
              "    }\n",
              "\n",
              "    .dataframe thead th {\n",
              "        text-align: right;\n",
              "    }\n",
              "</style>\n",
              "<table border=\"1\" class=\"dataframe\">\n",
              "  <thead>\n",
              "    <tr style=\"text-align: right;\">\n",
              "      <th></th>\n",
              "      <th>User Name</th>\n",
              "      <th>User Location</th>\n",
              "      <th>Text</th>\n",
              "      <th>English Text</th>\n",
              "      <th>Language</th>\n",
              "      <th>Time</th>\n",
              "      <th>geo</th>\n",
              "    </tr>\n",
              "  </thead>\n",
              "  <tbody>\n",
              "    <tr>\n",
              "      <th>0</th>\n",
              "      <td>Lumumba puVision 1</td>\n",
              "      <td></td>\n",
              "      <td>: 🇨🇩 L ’ de de a net par la de . …</td>\n",
              "      <td>(:,  , L,  , ’, d, e,  , d, e,  , a,  , n, e, ...</td>\n",
              "      <td>fr</td>\n",
              "      <td>Wed Aug 25 20:19:20 +0000 2021</td>\n",
              "      <td>None</td>\n",
              "    </tr>\n",
              "    <tr>\n",
              "      <th>1</th>\n",
              "      <td>Tresor M Vutungire</td>\n",
              "      <td>République Démocratique Du Con</td>\n",
              "      <td>: 🇨🇩 L ’ de de a net par la de . …</td>\n",
              "      <td>(:,  , L,  , ’, d, e,  , d, e,  , a,  , n, e, ...</td>\n",
              "      <td>fr</td>\n",
              "      <td>Wed Aug 25 20:19:04 +0000 2021</td>\n",
              "      <td>None</td>\n",
              "    </tr>\n",
              "    <tr>\n",
              "      <th>2</th>\n",
              "      <td>Rogo</td>\n",
              "      <td></td>\n",
              "      <td>: 🇨🇩 L ’ de de a net par la de . …</td>\n",
              "      <td>(:,  , L,  , ’, d, e,  , d, e,  , a,  , n, e, ...</td>\n",
              "      <td>fr</td>\n",
              "      <td>Wed Aug 25 20:18:17 +0000 2021</td>\n",
              "      <td>None</td>\n",
              "    </tr>\n",
              "    <tr>\n",
              "      <th>3</th>\n",
              "      <td>Congo Nouveau</td>\n",
              "      <td>République Démocratique Du Con</td>\n",
              "      <td>: 🇨🇩 L ’ de de a net par la de . …</td>\n",
              "      <td>(:,  , L,  , ’, d, e,  , d, e,  , a,  , n, e, ...</td>\n",
              "      <td>fr</td>\n",
              "      <td>Wed Aug 25 20:17:08 +0000 2021</td>\n",
              "      <td>None</td>\n",
              "    </tr>\n",
              "    <tr>\n",
              "      <th>4</th>\n",
              "      <td>ALLIANCE Humanitaire ONG</td>\n",
              "      <td></td>\n",
              "      <td>: 25 . 08 . 2021 : de remise bureaux de l ' de...</td>\n",
              "      <td>(:,  , 2, 5, .,  , 0, 8, .,  , 2, 0, 2, 1, :, ...</td>\n",
              "      <td>fr</td>\n",
              "      <td>Wed Aug 25 20:16:57 +0000 2021</td>\n",
              "      <td>None</td>\n",
              "    </tr>\n",
              "    <tr>\n",
              "      <th>5</th>\n",
              "      <td>angekapepula</td>\n",
              "      <td></td>\n",
              "      <td>: 🇨🇩 L ’ de de a net par la de . …</td>\n",
              "      <td>(:,  , L,  , ’, d, e,  , d, e,  , a,  , n, e, ...</td>\n",
              "      <td>fr</td>\n",
              "      <td>Wed Aug 25 20:16:45 +0000 2021</td>\n",
              "      <td>None</td>\n",
              "    </tr>\n",
              "    <tr>\n",
              "      <th>6</th>\n",
              "      <td>Sagesse Pratique</td>\n",
              "      <td></td>\n",
              "      <td>: 🇨🇩 L ’ de de a net par la de . …</td>\n",
              "      <td>(:,  , L,  , ’, d, e,  , d, e,  , a,  , n, e, ...</td>\n",
              "      <td>fr</td>\n",
              "      <td>Wed Aug 25 20:15:53 +0000 2021</td>\n",
              "      <td>None</td>\n",
              "    </tr>\n",
              "    <tr>\n",
              "      <th>7</th>\n",
              "      <td>Kitengie Kwibwe</td>\n",
              "      <td></td>\n",
              "      <td>: 🇨🇩 L ’ de de a net par la de . …</td>\n",
              "      <td>(:,  , L,  , ’, d, e,  , d, e,  , a,  , n, e, ...</td>\n",
              "      <td>fr</td>\n",
              "      <td>Wed Aug 25 20:15:26 +0000 2021</td>\n",
              "      <td>None</td>\n",
              "    </tr>\n",
              "    <tr>\n",
              "      <th>8</th>\n",
              "      <td>αкα ♛ 𝙰𝙻𝙴𝚇𝙰𝙽𝙳𝚁𝙴</td>\n",
              "      <td>République Démocratique Du Congo</td>\n",
              "      <td>: 🇨🇩 L ’ de de a net par la de . …</td>\n",
              "      <td>(:,  , L,  , ’, d, e,  , d, e,  , a,  , n, e, ...</td>\n",
              "      <td>fr</td>\n",
              "      <td>Wed Aug 25 20:15:25 +0000 2021</td>\n",
              "      <td>None</td>\n",
              "    </tr>\n",
              "    <tr>\n",
              "      <th>9</th>\n",
              "      <td>Caleb faray</td>\n",
              "      <td>République Démocratique Du Con</td>\n",
              "      <td>: 🇨🇩 L ’ de de a net par la de . …</td>\n",
              "      <td>(:,  , L,  , ’, d, e,  , d, e,  , a,  , n, e, ...</td>\n",
              "      <td>fr</td>\n",
              "      <td>Wed Aug 25 20:14:51 +0000 2021</td>\n",
              "      <td>None</td>\n",
              "    </tr>\n",
              "  </tbody>\n",
              "</table>\n",
              "</div>"
            ],
            "text/plain": [
              "                  User Name  ...   geo\n",
              "0        Lumumba puVision 1  ...  None\n",
              "1        Tresor M Vutungire  ...  None\n",
              "2                      Rogo  ...  None\n",
              "3             Congo Nouveau  ...  None\n",
              "4  ALLIANCE Humanitaire ONG  ...  None\n",
              "5              angekapepula  ...  None\n",
              "6          Sagesse Pratique  ...  None\n",
              "7           Kitengie Kwibwe  ...  None\n",
              "8           αкα ♛ 𝙰𝙻𝙴𝚇𝙰𝙽𝙳𝚁𝙴  ...  None\n",
              "9               Caleb faray  ...  None\n",
              "\n",
              "[10 rows x 7 columns]"
            ]
          },
          "metadata": {},
          "execution_count": 48
        }
      ]
    },
    {
      "cell_type": "code",
      "metadata": {
        "id": "h0BiGJJhkEug"
      },
      "source": [
        "# extract tweet sentences\n",
        "tweet_list = tweet_df['English Text'].values\n",
        "raw_tweets_en = []\n",
        "for tweet in tweet_list:\n",
        "  raw_tweets_en.append(str(tweet)) # convert all text blob object into text\n",
        "\n",
        "  \n"
      ],
      "execution_count": null,
      "outputs": []
    },
    {
      "cell_type": "code",
      "metadata": {
        "id": "8fp4FKZ5CCwN"
      },
      "source": [
        "languages = tweet_df['Language'].values\n",
        "dict_lang = {}\n",
        "\n",
        "for language in languages:\n",
        "  if (language in dict_lang.keys()):\n",
        "    dict_lang[language] = dict_lang[language] +1 \n",
        "  else:\n",
        "    dict_lang[language] = 1 \n"
      ],
      "execution_count": null,
      "outputs": []
    },
    {
      "cell_type": "code",
      "metadata": {
        "colab": {
          "base_uri": "https://localhost:8080/"
        },
        "id": "AHHglHSCDSEu",
        "outputId": "8f682832-c7de-4d24-9bcb-4657cc969bef"
      },
      "source": [
        "dict_lang"
      ],
      "execution_count": null,
      "outputs": [
        {
          "output_type": "execute_result",
          "data": {
            "text/plain": [
              "{'en': 35, 'fr': 46, 'in': 14, 'pl': 1, 'pt': 1, 'tl': 1, 'und': 2}"
            ]
          },
          "metadata": {},
          "execution_count": 51
        }
      ]
    },
    {
      "cell_type": "code",
      "metadata": {
        "colab": {
          "base_uri": "https://localhost:8080/"
        },
        "id": "kUPhvsPXJwqI",
        "outputId": "fce68b54-3d57-4d89-f40c-486c19242a8a"
      },
      "source": [
        "locations = tweet_df['User Location'].values\n",
        "type(locations[0])"
      ],
      "execution_count": null,
      "outputs": [
        {
          "output_type": "execute_result",
          "data": {
            "text/plain": [
              "str"
            ]
          },
          "metadata": {},
          "execution_count": 52
        }
      ]
    },
    {
      "cell_type": "code",
      "metadata": {
        "id": "whKrYUe4Jiyn"
      },
      "source": [
        "locations = tweet_df['User Location'].values\n",
        "dict_location = {}\n",
        "\n",
        "for location in locations:\n",
        "  \n",
        "  if (location in dict_location.keys()):\n",
        "    dict_location[location] = dict_location[location] +1 \n",
        "  else:\n",
        "    dict_location[location] = 1 "
      ],
      "execution_count": null,
      "outputs": []
    },
    {
      "cell_type": "code",
      "metadata": {
        "colab": {
          "base_uri": "https://localhost:8080/"
        },
        "id": "HG4XDu4xKMdV",
        "outputId": "0442ce83-50a8-4a3e-bac7-d4aeccb0f911"
      },
      "source": [
        "dict_location"
      ],
      "execution_count": null,
      "outputs": [
        {
          "output_type": "execute_result",
          "data": {
            "text/plain": [
              "{'': 36,\n",
              " 'Accraaaaaa!': 1,\n",
              " 'Africa': 2,\n",
              " 'Arusha, Tanzania': 2,\n",
              " 'Attiki, Greece': 1,\n",
              " 'Brooklyn, NY': 1,\n",
              " 'Bruxelles, Belgique': 1,\n",
              " 'Bujumbura': 1,\n",
              " 'Bujumbura  Burundi ': 1,\n",
              " 'Burundi': 1,\n",
              " 'Dar es Salaam, Tanzania': 8,\n",
              " 'Dodoma,Tanzania.': 1,\n",
              " 'France': 1,\n",
              " 'From Earth to Mars': 1,\n",
              " 'Gihosha,Bujumbura-Burundi': 1,\n",
              " 'Ivory Coast': 1,\n",
              " 'K I N S H A S A': 1,\n",
              " \"Kw'isi y'uBurundi \": 1,\n",
              " 'London, England': 1,\n",
              " 'Lubumbashi': 1,\n",
              " 'Mara, Tanzania': 2,\n",
              " 'Mwanza, Tanzania': 1,\n",
              " 'Nairobi, Kenya': 1,\n",
              " 'New Delhi': 1,\n",
              " 'New York, USA': 1,\n",
              " 'Plot 100/654 Ibex Hill, Lusaka': 1,\n",
              " 'Plus Beau Pays du monde🇨🇩❤👌': 1,\n",
              " 'Pool, Congo': 1,\n",
              " 'RD CONGO🇨🇩': 1,\n",
              " 'RDC': 1,\n",
              " 'RDC/France/Luxembourg': 1,\n",
              " 'RDC/Goma': 1,\n",
              " 'Rd Congo, Lubumbashi': 1,\n",
              " 'Rep. Dém du Congo': 1,\n",
              " 'République Démocratique Du Con': 5,\n",
              " 'République Démocratique Du Congo': 1,\n",
              " 'République du Rwanda': 1,\n",
              " 'Salta, Argentina': 1,\n",
              " 'Tanzania': 7,\n",
              " 'Zanzibar West, Tanzania': 3,\n",
              " 'earth. ': 1,\n",
              " 'mathetopetonia': 1,\n",
              " 'भारत': 1}"
            ]
          },
          "metadata": {},
          "execution_count": 54
        }
      ]
    },
    {
      "cell_type": "code",
      "metadata": {
        "id": "TeMmNkvsKoZ6"
      },
      "source": [
        ""
      ],
      "execution_count": null,
      "outputs": []
    },
    {
      "cell_type": "code",
      "metadata": {
        "colab": {
          "base_uri": "https://localhost:8080/",
          "height": 81
        },
        "id": "Y0hFrWtPD-1J",
        "outputId": "0742efb5-9837-4582-a8c9-b2406f0fd00e"
      },
      "source": [
        "tweet_df[tweet_df['Language']== 'pl']"
      ],
      "execution_count": null,
      "outputs": [
        {
          "output_type": "execute_result",
          "data": {
            "text/html": [
              "<div>\n",
              "<style scoped>\n",
              "    .dataframe tbody tr th:only-of-type {\n",
              "        vertical-align: middle;\n",
              "    }\n",
              "\n",
              "    .dataframe tbody tr th {\n",
              "        vertical-align: top;\n",
              "    }\n",
              "\n",
              "    .dataframe thead th {\n",
              "        text-align: right;\n",
              "    }\n",
              "</style>\n",
              "<table border=\"1\" class=\"dataframe\">\n",
              "  <thead>\n",
              "    <tr style=\"text-align: right;\">\n",
              "      <th></th>\n",
              "      <th>User Name</th>\n",
              "      <th>User Location</th>\n",
              "      <th>Text</th>\n",
              "      <th>English Text</th>\n",
              "      <th>Language</th>\n",
              "      <th>Time</th>\n",
              "      <th>geo</th>\n",
              "    </tr>\n",
              "  </thead>\n",
              "  <tbody>\n",
              "    <tr>\n",
              "      <th>29</th>\n",
              "      <td>ɱTαɳɠαɳყιƙα❄</td>\n",
              "      <td>Zanzibar West, Tanzania</td>\n",
              "      <td>ni</td>\n",
              "      <td>@rollymsouth hapana ni muuza ukwaju</td>\n",
              "      <td>pl</td>\n",
              "      <td>Wed Aug 25 19:02:10 +0000 2021</td>\n",
              "      <td>None</td>\n",
              "    </tr>\n",
              "  </tbody>\n",
              "</table>\n",
              "</div>"
            ],
            "text/plain": [
              "       User Name            User Location  ...                            Time   geo\n",
              "29  ɱTαɳɠαɳყιƙα❄  Zanzibar West, Tanzania  ...  Wed Aug 25 19:02:10 +0000 2021  None\n",
              "\n",
              "[1 rows x 7 columns]"
            ]
          },
          "metadata": {},
          "execution_count": 55
        }
      ]
    },
    {
      "cell_type": "code",
      "metadata": {
        "id": "JgZgA5itmLco"
      },
      "source": [
        "stopwords_hand_generated = [ \"\\n\", \"RT\"]\n",
        "\n",
        "def deEmojify(text):\n",
        "    regrex_pattern = re.compile(pattern = \"[\"\n",
        "        u\"\\U0001F600-\\U0001F64F\"  # emoticons\n",
        "        u\"\\U0001F300-\\U0001F5FF\"  # symbols & pictographs\n",
        "        u\"\\U0001F680-\\U0001F6FF\"  # transport & map symbols\n",
        "        u\"\\U0001F1E0-\\U0001F1FF\"  # flags (iOS)\n",
        "                           \"]+\", flags = re.UNICODE)\n",
        "    return regrex_pattern.sub(r'',text)\n",
        "\n",
        "\n",
        "#tweets_sw_removal = []\n",
        "def stopwords_removal_naive(raw_tweets_en):\n",
        "  tweets_sw_removal = []\n",
        "  for sentence in raw_tweets_en:\n",
        "    #print('before: ' + sentence)\n",
        "    for word in stopwords_hand_generated:\n",
        "      token = \" \" + word + \" \"\n",
        "      sentence = sentence.replace(token, \" \")\n",
        "      sentence = sentence.replace(\"  \", \" \")\n",
        "      sentence = re.sub('@[^\\s]+','',sentence) #remove user handle\n",
        "      sentence = re.sub('@ [^\\s]:+','',sentence)\n",
        "      sentence = re.sub(r\"http\\S+\", \"\", sentence) # remove url\n",
        "      \n",
        "      \n",
        "      sentence = sentence.replace(\"#\", \" \")\n",
        "      sentence = sentence.replace(\"\\n\", \" \")\n",
        "      sentence = sentence.replace(\"LePhoenix84\", \"\")\n",
        "      sentence = sentence.replace(\"@\", \"\")\n",
        "      \n",
        "      \n",
        "      sentence = re.sub('RT+','',sentence) #remove RT\n",
        "      sentence = deEmojify(sentence) #remove emoji\n",
        "      \n",
        "    tweets_sw_removal.append(sentence)\n",
        "  #print('after:  ' + sentence)\n",
        "  return tweets_sw_removal"
      ],
      "execution_count": null,
      "outputs": []
    },
    {
      "cell_type": "code",
      "metadata": {
        "id": "pvuL2f_Fzb60",
        "colab": {
          "base_uri": "https://localhost:8080/"
        },
        "outputId": "677fd191-cc5d-439f-a12a-935403724990"
      },
      "source": [
        "tweets_sw_removal = stopwords_removal_naive(raw_tweets_en)\n",
        "len(tweets_sw_removal)"
      ],
      "execution_count": null,
      "outputs": [
        {
          "output_type": "execute_result",
          "data": {
            "text/plain": [
              "100"
            ]
          },
          "metadata": {},
          "execution_count": 57
        }
      ]
    },
    {
      "cell_type": "markdown",
      "metadata": {
        "id": "Cv9uw9nMzJey"
      },
      "source": [
        "#Named entity recognition"
      ]
    },
    {
      "cell_type": "code",
      "metadata": {
        "id": "pPZNUxTwzMKT",
        "colab": {
          "base_uri": "https://localhost:8080/"
        },
        "outputId": "dc32ab5c-106e-4ad6-a704-7b8baaf472b7"
      },
      "source": [
        "import nltk\n",
        "from nltk.tokenize import word_tokenize\n",
        "from nltk.tag import pos_tag\n",
        "nltk.download('averaged_perceptron_tagger')"
      ],
      "execution_count": null,
      "outputs": [
        {
          "output_type": "stream",
          "text": [
            "[nltk_data] Downloading package averaged_perceptron_tagger to\n",
            "[nltk_data]     /root/nltk_data...\n",
            "[nltk_data]   Unzipping taggers/averaged_perceptron_tagger.zip.\n"
          ],
          "name": "stdout"
        },
        {
          "output_type": "execute_result",
          "data": {
            "text/plain": [
              "True"
            ]
          },
          "metadata": {},
          "execution_count": 58
        }
      ]
    },
    {
      "cell_type": "code",
      "metadata": {
        "colab": {
          "base_uri": "https://localhost:8080/"
        },
        "id": "V1T-CmCUNHfm",
        "outputId": "76f05e87-7bb3-4e37-ce7f-f0c8a739612c"
      },
      "source": [
        "from nltk.chunk import conlltags2tree, tree2conlltags\n",
        "from pprint import pprint\n",
        "from nltk import ne_chunk\n",
        "nltk.download('maxent_ne_chunker')\n"
      ],
      "execution_count": null,
      "outputs": [
        {
          "output_type": "stream",
          "text": [
            "[nltk_data] Downloading package maxent_ne_chunker to\n",
            "[nltk_data]     /root/nltk_data...\n",
            "[nltk_data]   Unzipping chunkers/maxent_ne_chunker.zip.\n"
          ],
          "name": "stdout"
        },
        {
          "output_type": "execute_result",
          "data": {
            "text/plain": [
              "True"
            ]
          },
          "metadata": {},
          "execution_count": 59
        }
      ]
    },
    {
      "cell_type": "code",
      "metadata": {
        "id": "iE4DCDOgzh2A"
      },
      "source": [
        "def preprocess(sent):\n",
        "    sent = nltk.word_tokenize(sent)\n",
        "    sent = nltk.pos_tag(sent)\n",
        "    return sent"
      ],
      "execution_count": null,
      "outputs": []
    },
    {
      "cell_type": "code",
      "metadata": {
        "id": "3Xdr1_ZqzjL5"
      },
      "source": [
        "test1=preprocess(tweets_sw_removal[0])"
      ],
      "execution_count": null,
      "outputs": []
    },
    {
      "cell_type": "code",
      "metadata": {
        "id": "lzgh29D9z8YJ"
      },
      "source": [
        "# identify issue through pattern\n",
        "pattern = 'NP: {<DT>?<JJ>*<NN>}'"
      ],
      "execution_count": null,
      "outputs": []
    },
    {
      "cell_type": "code",
      "metadata": {
        "id": "Drb9XI8p0Cue"
      },
      "source": [
        "cp = nltk.RegexpParser(pattern)\n",
        "cs = cp.parse(test1)\n",
        "print(cs)"
      ],
      "execution_count": null,
      "outputs": []
    },
    {
      "cell_type": "code",
      "metadata": {
        "id": "JySbSZnD0SCM",
        "colab": {
          "base_uri": "https://localhost:8080/",
          "height": 238
        },
        "outputId": "b6aa4a2e-182a-4480-daba-61f640589073"
      },
      "source": [
        ""
      ],
      "execution_count": null,
      "outputs": [
        {
          "output_type": "error",
          "ename": "NameError",
          "evalue": "ignored",
          "traceback": [
            "\u001b[0;31m---------------------------------------------------------------------------\u001b[0m",
            "\u001b[0;31mNameError\u001b[0m                                 Traceback (most recent call last)",
            "\u001b[0;32m<ipython-input-16-5c7ed09237e9>\u001b[0m in \u001b[0;36m<module>\u001b[0;34m()\u001b[0m\n\u001b[1;32m      2\u001b[0m \u001b[0;32mfrom\u001b[0m \u001b[0mpprint\u001b[0m \u001b[0;32mimport\u001b[0m \u001b[0mpprint\u001b[0m\u001b[0;34m\u001b[0m\u001b[0;34m\u001b[0m\u001b[0m\n\u001b[1;32m      3\u001b[0m \u001b[0;32mfrom\u001b[0m \u001b[0mnltk\u001b[0m \u001b[0;32mimport\u001b[0m \u001b[0mne_chunk\u001b[0m\u001b[0;34m\u001b[0m\u001b[0;34m\u001b[0m\u001b[0m\n\u001b[0;32m----> 4\u001b[0;31m \u001b[0mnltk\u001b[0m\u001b[0;34m.\u001b[0m\u001b[0mdownload\u001b[0m\u001b[0;34m(\u001b[0m\u001b[0;34m'maxent_ne_chunker'\u001b[0m\u001b[0;34m)\u001b[0m\u001b[0;34m\u001b[0m\u001b[0;34m\u001b[0m\u001b[0m\n\u001b[0m\u001b[1;32m      5\u001b[0m \u001b[0;34m\u001b[0m\u001b[0m\n\u001b[1;32m      6\u001b[0m \u001b[0miob_tagged\u001b[0m \u001b[0;34m=\u001b[0m \u001b[0mtree2conlltags\u001b[0m\u001b[0;34m(\u001b[0m\u001b[0mcs\u001b[0m\u001b[0;34m)\u001b[0m\u001b[0;34m\u001b[0m\u001b[0;34m\u001b[0m\u001b[0m\n",
            "\u001b[0;31mNameError\u001b[0m: name 'nltk' is not defined"
          ]
        }
      ]
    },
    {
      "cell_type": "code",
      "metadata": {
        "id": "I1moZlzp0ld3"
      },
      "source": [
        "ne_tree = ne_chunk(pos_tag(word_tokenize(tweets_sw_removal[0])))\n",
        "print(ne_tree)"
      ],
      "execution_count": null,
      "outputs": []
    },
    {
      "cell_type": "markdown",
      "metadata": {
        "id": "4THS6itS1I04"
      },
      "source": [
        "#SpaCy named entity recognition"
      ]
    },
    {
      "cell_type": "code",
      "metadata": {
        "id": "7Aa-_hDo1LYj"
      },
      "source": [
        "import spacy\n",
        "from spacy import displacy\n",
        "from collections import Counter\n",
        "import en_core_web_sm\n",
        "nlp = en_core_web_sm.load()"
      ],
      "execution_count": null,
      "outputs": []
    },
    {
      "cell_type": "code",
      "metadata": {
        "id": "xgYCtalV1TkP",
        "colab": {
          "base_uri": "https://localhost:8080/"
        },
        "outputId": "9b36fbed-88a1-4a26-a072-16dff89f960c"
      },
      "source": [
        "doc = nlp(tweets_sw_removal[0])\n",
        "pprint([(X.text, X.label_) for X in doc.ents])"
      ],
      "execution_count": null,
      "outputs": [
        {
          "output_type": "stream",
          "text": [
            "[('L ’de de a net par', 'ORG')]\n"
          ],
          "name": "stdout"
        }
      ]
    },
    {
      "cell_type": "code",
      "metadata": {
        "id": "6K6UWn5F1o5y",
        "colab": {
          "base_uri": "https://localhost:8080/"
        },
        "outputId": "6f49d722-b812-4e3c-bee2-75269414402c"
      },
      "source": [
        "pprint([(X, X.ent_iob_, X.ent_type_) for X in doc])"
      ],
      "execution_count": null,
      "outputs": [
        {
          "output_type": "stream",
          "text": [
            "[(:, 'O', ''),\n",
            " (L, 'B', 'ORG'),\n",
            " (’, 'I', 'ORG'),\n",
            " (de, 'I', 'ORG'),\n",
            " (de, 'I', 'ORG'),\n",
            " (a, 'I', 'ORG'),\n",
            " (net, 'I', 'ORG'),\n",
            " (par, 'I', 'ORG'),\n",
            " (la, 'O', ''),\n",
            " (de, 'O', ''),\n",
            " (., 'O', ''),\n",
            " (..., 'O', '')]\n"
          ],
          "name": "stdout"
        }
      ]
    },
    {
      "cell_type": "markdown",
      "metadata": {
        "id": "NAgmoj1a1yuY"
      },
      "source": [
        "# A test wtih beautiful soup"
      ]
    },
    {
      "cell_type": "code",
      "metadata": {
        "id": "22TI3Tpu10Ax"
      },
      "source": [
        "from bs4 import BeautifulSoup\n",
        "import requests\n",
        "import re\n",
        "\n",
        "def url_to_string(url):\n",
        "    res = requests.get(url)\n",
        "    html = res.text\n",
        "    soup = BeautifulSoup(html, 'html5lib')\n",
        "    for script in soup([\"script\", \"style\", 'aside']):\n",
        "        script.extract()\n",
        "    return \" \".join(re.split(r'[\\n\\t]+', soup.get_text()))\n",
        "\n",
        "ny_bb = url_to_string('https://www.nytimes.com/2018/08/13/us/politics/peter-strzok-fired-fbi.html?hp&action=click&pgtype=Homepage&clickSource=story-heading&module=first-column-region&region=top-news&WT.nav=top-news')\n",
        "article = nlp(ny_bb)\n",
        "len(article.ents)"
      ],
      "execution_count": null,
      "outputs": []
    },
    {
      "cell_type": "code",
      "metadata": {
        "id": "z83b5Fpf3iF2"
      },
      "source": [
        "labels = [x.label_ for x in article.ents]\n",
        "Counter(labels)"
      ],
      "execution_count": null,
      "outputs": []
    },
    {
      "cell_type": "code",
      "metadata": {
        "id": "dSpb0I153jnl"
      },
      "source": [
        "items = [x.text for x in article.ents]\n",
        "Counter(items).most_common(3)"
      ],
      "execution_count": null,
      "outputs": []
    },
    {
      "cell_type": "code",
      "metadata": {
        "colab": {
          "base_uri": "https://localhost:8080/"
        },
        "id": "aDnSwp6PSku7",
        "outputId": "735ef27a-7e49-4944-f202-e210693567d6"
      },
      "source": [
        "for tweet in tweets_sw_removal:\n",
        "  print(tweet)"
      ],
      "execution_count": null,
      "outputs": [
        {
          "output_type": "stream",
          "text": [
            ": L ’de de a net par la de. ...\n",
            ": L ’de de a net par la de. ...\n",
            ": L ’de de a net par la de. ...\n",
            ": L ’de de a net par la de. ...\n",
            ": 25. 08. 2021: handover of the offices of the…\n",
            ": L ’de de a net par la de. ...\n",
            ": L ’de de a net par la de. ...\n",
            ": L ’de de a net par la de. ...\n",
            ": L ’de de a net par la de. ...\n",
            ": L ’de de a net par la de. ...\n",
            ": L ’de de a net par la de. ...\n",
            ": L ’de de a net par la de. ...\n",
            ": L ’de de a net par la de. ...\n",
            ": L ’de de a net par la de. ...\n",
            " L ’de a net by la de…\n",
            "  Feeling Proud.  My ancestors came from diverse backgrounds. Part of my Mum’s family is from Tanzania or Tangany…\n",
            "n ', manipulation. ...\n",
            " Zinauzwa pale Tanganyika arms. Unaweza kununua yako\n",
            "This pose, this 200. [...] In 1996 , …\n",
            "  BibiTiti was an influential leader during Tanzania's quest for independence under Tanganyika African National Union ( …\n",
            ": we : . sound, there is on l. ...\n",
            " MAJALIWA: NIMERIDHISHWA NA UJENZI WA BANDARI YA KAREMA  Waziri Mkuu leo Agosti 25, 2021 amekagua maende…\n",
            " 🤣🤣\n",
            ": we : . sound, there is on l. ...\n",
            ": 25. 08. 2021: handover of the offices of the…\n",
            " . and partners are presenting findings from the FISH4ACP analysis of sprats, sardines and perch to Lake Tanganyika fi…\n",
            " Umemaliza\n",
            "25. 08. 2021: handover of the offices of ...\n",
            " Excuse us! Somalis are not foreigners to TZ. Just as you came from Congo forest via Shungwaya, north of Ki… \n",
            " hapana ni muuza ukwaju\n",
            " MAJALIWA: NIMERIDHISHWA NA UJENZI WA BANDARI YA KAREMA  Waziri Mkuu leo Agosti 25, 2021 amekagua maende…\n",
            "We one of all one for (,.) \n",
            "  BibiTiti was an influential leader during Tanzania's quest for independence under Tanganyika African National Union ( …\n",
            ": Mr. respective provinces by force in ...\n",
            "1936 Gv Kenya, Uganda And Tanganyika 1/- Fine Used, Sg118B Perf 13X12 Cat £140 \n",
            "  BibiTiti was an influential leader during Tanzania's quest for independence under Tanganyika African National Union ( …\n",
            ": we : . sound, there is on l. ...\n",
            "MAJALIWA: NIMERIDHISHWA NA UJENZI WA BANDARI YA KAREMA  Waziri Mkuu leo Agosti 25, 2021 amekagua… \n",
            ": we : . sound, there is on l. ...\n",
            "  BibiTiti was an influential leader during Tanzania's quest for independence under Tanganyika African National Union ( …\n",
            " Tunaka Katiba mpya itakayo rudisha mamlaka kwa wananchi,itakayo wawajibisha watawala,na itakayo irudisha nchi yetu ya T…\n",
            " BibiTiti was an influential leader during Tanzania's quest for independence under Tanganyika African National Un… \n",
            "Ranging from the most stunning and scenic Waterfalls, the Exotic Beaches spread along Tanganyika, the Wildlife and… \n",
            "Worth noting that you do need a fifth color for major lakes, as Tanzania, Zambia, Malawi, Mozambique, and Lakes Mal… \n",
            " \"It was constructed in 1929 and is named after John Einar Selander , Tanganyika's first Director of… \n",
            "great looking for the tributary.\n",
            " OUR PLACES! Tanzania may be the only country with a compound name. The “Tan” comes from Tanganyika (which means somet…\n",
            "  Feeling Proud.  My ancestors came from diverse backgrounds. Part of my Mum’s family is from Tanzania or Tangany…\n",
            "office: 2 / n: A site by de l 'office sa, this site is on the d ...\n",
            ": we : . sound, there is on l. ...\n",
            "  Zebra inside the in drcongo  Photo : Tanganyika_Links_Tours (IG)  zebra kivu kinshasa lubum…\n",
            "    \n",
            " OUR PLACES! Tanzania may be the only country with a compound name. The “Tan” comes from Tanganyika (which means somet…\n",
            " OUR PLACES! Tanzania may be the only country with a compound name. The “Tan” comes from Tanganyika (which means somet…\n",
            "OUR PLACES! Tanzania may be the only country with a compound name. The “Tan” comes from Tanganyika (which means so… \n",
            ": Mr. respective provinces by force in ...\n",
            ": 4 does not speak of the Province. Province s ...\n",
            ", of office s 'on site of mouth - for s' ...\n",
            " Thanks to Fund, is building on existing resilience of young Twa and Bantou to protect health facilit…\n",
            "‼ EN | \"Four in the shooting at the embassy of ...\n",
            " The floodings of Lake Tanganyika and the Rusizi river have displaced thousands of people in Burundi. Urgent resources are…\n",
            ": we : . sound, there is on l. ...\n",
            " . and partners are presenting findings from the FISH4ACP analysis of sprats, sardines and perch to Lake Tanganyika fi…\n",
            " Tanganyika politician OSCAR KAMBONA (1928 - 1997) marries FLORA MORIYO, London, UK, 19th November 1960.  \n",
            " The floodings of Lake Tanganyika and the Rusizi river have displaced thousands of people in Burundi. Urgent resources are…\n",
            " No one has asked me yet what I liked most during my visit in Burundi. I will volunteer the answer: 1) the most refre…\n",
            " \" MTU AFAYE FOFOFO NI MTU AFANYAYE KAZI YA MANUFAA YAKE MWENYEWE NA TUMBO LAKE!.\" HAYATI SHAABAN ROBE… \n",
            "2 / n: A site by the office sa, this site is on the ...\n",
            "Milupwa-Tanganyika-Katavi Kigoma Road. \n",
            ": 4 does not speak of the Province. Province s ...\n",
            "n for police arms tu\n",
            " No one has asked me yet what I liked most during my visit in Burundi. I will volunteer the answer: 1) the most refre…\n",
            "    \n",
            "the lake ❤\n",
            ": 4 does not speak of the Province. Province s ...\n",
            ": we : . sound, there is on l. ...\n",
            ": 4 the impeachment of, no longer speaks. For, a ...\n",
            ": 4 the impeachment of, no longer speaks. For, a ...\n",
            " . and partners are presenting findings from the FISH4ACP analysis of sprats, sardines and perch to Lake Tanganyika fi…\n",
            ": 4 does not speak of the Province. Province s ...\n",
            " . and partners are presenting findings from the FISH4ACP analysis of sprats, sardines and perch to Lake Tanganyika fi…\n",
            " No one has asked me yet what I liked most during my visit in Burundi. I will volunteer the answer: 1) the most refre…\n",
            "Nyerere alipatia sana kuunga Zenji na Tanganyika tungekua tushashuhudia mengi\n",
            " . and partners are presenting findings from the FISH4ACP analysis of sprats, sardines and perch to Lake Tanganyika fi…\n",
            ". and partners are presenting findings from the FISH4ACP analysis of sprats, sardines and perch to Lake Tangan… \n",
            " On January 30, 1962, an epidemic of laughter lasted between 6-18 months at a mission-run boarding school for girls in Kas…\n",
            "Mr. Kalisa also visited the Port of Burundi. He said that “Lake Tanganyika has great potential to economically tra… \n",
            "and Lake Tanganyika. commended the Government of the Republic of Burundi for kick starting the industria… \n",
            " The floodings of Lake Tanganyika and the Rusizi river have displaced thousands of people in Burundi. Urgent resources are…\n",
            "At work 22,, SAMBA has ...\n",
            " Umukeke from Lac Tanganyika KazeiBurundi Abatwip  visitBurundi VisitEastAfrica \n",
            " The floodings of Lake Tanganyika and the Rusizi river have displaced thousands of people in Burundi. Urgent resources are…\n",
            " Muda wa kutembelea Tanganyika Arms.\n",
            "Umukeke from Lac Tanganyika KazeiBurundi Abatwip  visitBurundi VisitEastAfrica \n",
            ": from the lake, the tradition…\n",
            "...yule sasa ata mkiiambia dunia alikuwa gaidi makes sense...‍🦯\n",
            ": La U - Report en! , U - 350 for l…\n",
            ": we : . sound, there is on l. ...\n",
            " The floodings of Lake Tanganyika and the Rusizi river have displaced thousands of people in Burundi. Urgent resources are…\n",
            ": 4 does not speak of the Province. Province s ...\n"
          ],
          "name": "stdout"
        }
      ]
    },
    {
      "cell_type": "markdown",
      "metadata": {
        "id": "6yXHF7U0UFmj"
      },
      "source": [
        "# spaCY relationship visualizer"
      ]
    },
    {
      "cell_type": "code",
      "metadata": {
        "colab": {
          "base_uri": "https://localhost:8080/",
          "height": 799
        },
        "id": "za_XDQwRTRNB",
        "outputId": "4873fcdf-d830-4657-8dc3-b07ffce82bac"
      },
      "source": [
        "displacy.render(nlp(tweets_sw_removal[-9]), style='dep', jupyter = True, options = {'distance': 120})\n",
        "displacy.render(nlp(tweets_sw_removal[80]), style='dep', jupyter = True, options = {'distance': 120})"
      ],
      "execution_count": null,
      "outputs": [
        {
          "output_type": "display_data",
          "data": {
            "text/html": [
              "<span class=\"tex2jax_ignore\"><svg xmlns=\"http://www.w3.org/2000/svg\" xmlns:xlink=\"http://www.w3.org/1999/xlink\" xml:lang=\"en\" id=\"7009ffb04a2240b4ba1063557651ccdd-0\" class=\"displacy\" width=\"2450\" height=\"377.0\" direction=\"ltr\" style=\"max-width: none; height: 377.0px; color: #000000; background: #ffffff; font-family: Arial; direction: ltr\">\n",
              "<text class=\"displacy-token\" fill=\"currentColor\" text-anchor=\"middle\" y=\"287.0\">\n",
              "    <tspan class=\"displacy-word\" fill=\"currentColor\" x=\"50\"> </tspan>\n",
              "    <tspan class=\"displacy-tag\" dy=\"2em\" fill=\"currentColor\" x=\"50\">SPACE</tspan>\n",
              "</text>\n",
              "\n",
              "<text class=\"displacy-token\" fill=\"currentColor\" text-anchor=\"middle\" y=\"287.0\">\n",
              "    <tspan class=\"displacy-word\" fill=\"currentColor\" x=\"170\">The</tspan>\n",
              "    <tspan class=\"displacy-tag\" dy=\"2em\" fill=\"currentColor\" x=\"170\">DET</tspan>\n",
              "</text>\n",
              "\n",
              "<text class=\"displacy-token\" fill=\"currentColor\" text-anchor=\"middle\" y=\"287.0\">\n",
              "    <tspan class=\"displacy-word\" fill=\"currentColor\" x=\"290\">floodings</tspan>\n",
              "    <tspan class=\"displacy-tag\" dy=\"2em\" fill=\"currentColor\" x=\"290\">NOUN</tspan>\n",
              "</text>\n",
              "\n",
              "<text class=\"displacy-token\" fill=\"currentColor\" text-anchor=\"middle\" y=\"287.0\">\n",
              "    <tspan class=\"displacy-word\" fill=\"currentColor\" x=\"410\">of</tspan>\n",
              "    <tspan class=\"displacy-tag\" dy=\"2em\" fill=\"currentColor\" x=\"410\">ADP</tspan>\n",
              "</text>\n",
              "\n",
              "<text class=\"displacy-token\" fill=\"currentColor\" text-anchor=\"middle\" y=\"287.0\">\n",
              "    <tspan class=\"displacy-word\" fill=\"currentColor\" x=\"530\">Lake</tspan>\n",
              "    <tspan class=\"displacy-tag\" dy=\"2em\" fill=\"currentColor\" x=\"530\">PROPN</tspan>\n",
              "</text>\n",
              "\n",
              "<text class=\"displacy-token\" fill=\"currentColor\" text-anchor=\"middle\" y=\"287.0\">\n",
              "    <tspan class=\"displacy-word\" fill=\"currentColor\" x=\"650\">Tanganyika</tspan>\n",
              "    <tspan class=\"displacy-tag\" dy=\"2em\" fill=\"currentColor\" x=\"650\">PROPN</tspan>\n",
              "</text>\n",
              "\n",
              "<text class=\"displacy-token\" fill=\"currentColor\" text-anchor=\"middle\" y=\"287.0\">\n",
              "    <tspan class=\"displacy-word\" fill=\"currentColor\" x=\"770\">and</tspan>\n",
              "    <tspan class=\"displacy-tag\" dy=\"2em\" fill=\"currentColor\" x=\"770\">CCONJ</tspan>\n",
              "</text>\n",
              "\n",
              "<text class=\"displacy-token\" fill=\"currentColor\" text-anchor=\"middle\" y=\"287.0\">\n",
              "    <tspan class=\"displacy-word\" fill=\"currentColor\" x=\"890\">the</tspan>\n",
              "    <tspan class=\"displacy-tag\" dy=\"2em\" fill=\"currentColor\" x=\"890\">DET</tspan>\n",
              "</text>\n",
              "\n",
              "<text class=\"displacy-token\" fill=\"currentColor\" text-anchor=\"middle\" y=\"287.0\">\n",
              "    <tspan class=\"displacy-word\" fill=\"currentColor\" x=\"1010\">Rusizi</tspan>\n",
              "    <tspan class=\"displacy-tag\" dy=\"2em\" fill=\"currentColor\" x=\"1010\">PROPN</tspan>\n",
              "</text>\n",
              "\n",
              "<text class=\"displacy-token\" fill=\"currentColor\" text-anchor=\"middle\" y=\"287.0\">\n",
              "    <tspan class=\"displacy-word\" fill=\"currentColor\" x=\"1130\">river</tspan>\n",
              "    <tspan class=\"displacy-tag\" dy=\"2em\" fill=\"currentColor\" x=\"1130\">NOUN</tspan>\n",
              "</text>\n",
              "\n",
              "<text class=\"displacy-token\" fill=\"currentColor\" text-anchor=\"middle\" y=\"287.0\">\n",
              "    <tspan class=\"displacy-word\" fill=\"currentColor\" x=\"1250\">have</tspan>\n",
              "    <tspan class=\"displacy-tag\" dy=\"2em\" fill=\"currentColor\" x=\"1250\">AUX</tspan>\n",
              "</text>\n",
              "\n",
              "<text class=\"displacy-token\" fill=\"currentColor\" text-anchor=\"middle\" y=\"287.0\">\n",
              "    <tspan class=\"displacy-word\" fill=\"currentColor\" x=\"1370\">displaced</tspan>\n",
              "    <tspan class=\"displacy-tag\" dy=\"2em\" fill=\"currentColor\" x=\"1370\">VERB</tspan>\n",
              "</text>\n",
              "\n",
              "<text class=\"displacy-token\" fill=\"currentColor\" text-anchor=\"middle\" y=\"287.0\">\n",
              "    <tspan class=\"displacy-word\" fill=\"currentColor\" x=\"1490\">thousands</tspan>\n",
              "    <tspan class=\"displacy-tag\" dy=\"2em\" fill=\"currentColor\" x=\"1490\">NOUN</tspan>\n",
              "</text>\n",
              "\n",
              "<text class=\"displacy-token\" fill=\"currentColor\" text-anchor=\"middle\" y=\"287.0\">\n",
              "    <tspan class=\"displacy-word\" fill=\"currentColor\" x=\"1610\">of</tspan>\n",
              "    <tspan class=\"displacy-tag\" dy=\"2em\" fill=\"currentColor\" x=\"1610\">ADP</tspan>\n",
              "</text>\n",
              "\n",
              "<text class=\"displacy-token\" fill=\"currentColor\" text-anchor=\"middle\" y=\"287.0\">\n",
              "    <tspan class=\"displacy-word\" fill=\"currentColor\" x=\"1730\">people</tspan>\n",
              "    <tspan class=\"displacy-tag\" dy=\"2em\" fill=\"currentColor\" x=\"1730\">NOUN</tspan>\n",
              "</text>\n",
              "\n",
              "<text class=\"displacy-token\" fill=\"currentColor\" text-anchor=\"middle\" y=\"287.0\">\n",
              "    <tspan class=\"displacy-word\" fill=\"currentColor\" x=\"1850\">in</tspan>\n",
              "    <tspan class=\"displacy-tag\" dy=\"2em\" fill=\"currentColor\" x=\"1850\">ADP</tspan>\n",
              "</text>\n",
              "\n",
              "<text class=\"displacy-token\" fill=\"currentColor\" text-anchor=\"middle\" y=\"287.0\">\n",
              "    <tspan class=\"displacy-word\" fill=\"currentColor\" x=\"1970\">Burundi.</tspan>\n",
              "    <tspan class=\"displacy-tag\" dy=\"2em\" fill=\"currentColor\" x=\"1970\">PROPN</tspan>\n",
              "</text>\n",
              "\n",
              "<text class=\"displacy-token\" fill=\"currentColor\" text-anchor=\"middle\" y=\"287.0\">\n",
              "    <tspan class=\"displacy-word\" fill=\"currentColor\" x=\"2090\">Urgent</tspan>\n",
              "    <tspan class=\"displacy-tag\" dy=\"2em\" fill=\"currentColor\" x=\"2090\">ADJ</tspan>\n",
              "</text>\n",
              "\n",
              "<text class=\"displacy-token\" fill=\"currentColor\" text-anchor=\"middle\" y=\"287.0\">\n",
              "    <tspan class=\"displacy-word\" fill=\"currentColor\" x=\"2210\">resources</tspan>\n",
              "    <tspan class=\"displacy-tag\" dy=\"2em\" fill=\"currentColor\" x=\"2210\">NOUN</tspan>\n",
              "</text>\n",
              "\n",
              "<text class=\"displacy-token\" fill=\"currentColor\" text-anchor=\"middle\" y=\"287.0\">\n",
              "    <tspan class=\"displacy-word\" fill=\"currentColor\" x=\"2330\">are…</tspan>\n",
              "    <tspan class=\"displacy-tag\" dy=\"2em\" fill=\"currentColor\" x=\"2330\">VERB</tspan>\n",
              "</text>\n",
              "\n",
              "<g class=\"displacy-arrow\">\n",
              "    <path class=\"displacy-arc\" id=\"arrow-7009ffb04a2240b4ba1063557651ccdd-0-0\" stroke-width=\"2px\" d=\"M70,242.0 C70,182.0 155.0,182.0 155.0,242.0\" fill=\"none\" stroke=\"currentColor\"/>\n",
              "    <text dy=\"1.25em\" style=\"font-size: 0.8em; letter-spacing: 1px\">\n",
              "        <textPath xlink:href=\"#arrow-7009ffb04a2240b4ba1063557651ccdd-0-0\" class=\"displacy-label\" startOffset=\"50%\" side=\"left\" fill=\"currentColor\" text-anchor=\"middle\"></textPath>\n",
              "    </text>\n",
              "    <path class=\"displacy-arrowhead\" d=\"M70,244.0 L62,232.0 78,232.0\" fill=\"currentColor\"/>\n",
              "</g>\n",
              "\n",
              "<g class=\"displacy-arrow\">\n",
              "    <path class=\"displacy-arc\" id=\"arrow-7009ffb04a2240b4ba1063557651ccdd-0-1\" stroke-width=\"2px\" d=\"M190,242.0 C190,182.0 275.0,182.0 275.0,242.0\" fill=\"none\" stroke=\"currentColor\"/>\n",
              "    <text dy=\"1.25em\" style=\"font-size: 0.8em; letter-spacing: 1px\">\n",
              "        <textPath xlink:href=\"#arrow-7009ffb04a2240b4ba1063557651ccdd-0-1\" class=\"displacy-label\" startOffset=\"50%\" side=\"left\" fill=\"currentColor\" text-anchor=\"middle\">det</textPath>\n",
              "    </text>\n",
              "    <path class=\"displacy-arrowhead\" d=\"M190,244.0 L182,232.0 198,232.0\" fill=\"currentColor\"/>\n",
              "</g>\n",
              "\n",
              "<g class=\"displacy-arrow\">\n",
              "    <path class=\"displacy-arc\" id=\"arrow-7009ffb04a2240b4ba1063557651ccdd-0-2\" stroke-width=\"2px\" d=\"M310,242.0 C310,2.0 1370.0,2.0 1370.0,242.0\" fill=\"none\" stroke=\"currentColor\"/>\n",
              "    <text dy=\"1.25em\" style=\"font-size: 0.8em; letter-spacing: 1px\">\n",
              "        <textPath xlink:href=\"#arrow-7009ffb04a2240b4ba1063557651ccdd-0-2\" class=\"displacy-label\" startOffset=\"50%\" side=\"left\" fill=\"currentColor\" text-anchor=\"middle\">nsubj</textPath>\n",
              "    </text>\n",
              "    <path class=\"displacy-arrowhead\" d=\"M310,244.0 L302,232.0 318,232.0\" fill=\"currentColor\"/>\n",
              "</g>\n",
              "\n",
              "<g class=\"displacy-arrow\">\n",
              "    <path class=\"displacy-arc\" id=\"arrow-7009ffb04a2240b4ba1063557651ccdd-0-3\" stroke-width=\"2px\" d=\"M310,242.0 C310,182.0 395.0,182.0 395.0,242.0\" fill=\"none\" stroke=\"currentColor\"/>\n",
              "    <text dy=\"1.25em\" style=\"font-size: 0.8em; letter-spacing: 1px\">\n",
              "        <textPath xlink:href=\"#arrow-7009ffb04a2240b4ba1063557651ccdd-0-3\" class=\"displacy-label\" startOffset=\"50%\" side=\"left\" fill=\"currentColor\" text-anchor=\"middle\">prep</textPath>\n",
              "    </text>\n",
              "    <path class=\"displacy-arrowhead\" d=\"M395.0,244.0 L403.0,232.0 387.0,232.0\" fill=\"currentColor\"/>\n",
              "</g>\n",
              "\n",
              "<g class=\"displacy-arrow\">\n",
              "    <path class=\"displacy-arc\" id=\"arrow-7009ffb04a2240b4ba1063557651ccdd-0-4\" stroke-width=\"2px\" d=\"M550,242.0 C550,182.0 635.0,182.0 635.0,242.0\" fill=\"none\" stroke=\"currentColor\"/>\n",
              "    <text dy=\"1.25em\" style=\"font-size: 0.8em; letter-spacing: 1px\">\n",
              "        <textPath xlink:href=\"#arrow-7009ffb04a2240b4ba1063557651ccdd-0-4\" class=\"displacy-label\" startOffset=\"50%\" side=\"left\" fill=\"currentColor\" text-anchor=\"middle\">compound</textPath>\n",
              "    </text>\n",
              "    <path class=\"displacy-arrowhead\" d=\"M550,244.0 L542,232.0 558,232.0\" fill=\"currentColor\"/>\n",
              "</g>\n",
              "\n",
              "<g class=\"displacy-arrow\">\n",
              "    <path class=\"displacy-arc\" id=\"arrow-7009ffb04a2240b4ba1063557651ccdd-0-5\" stroke-width=\"2px\" d=\"M430,242.0 C430,122.0 640.0,122.0 640.0,242.0\" fill=\"none\" stroke=\"currentColor\"/>\n",
              "    <text dy=\"1.25em\" style=\"font-size: 0.8em; letter-spacing: 1px\">\n",
              "        <textPath xlink:href=\"#arrow-7009ffb04a2240b4ba1063557651ccdd-0-5\" class=\"displacy-label\" startOffset=\"50%\" side=\"left\" fill=\"currentColor\" text-anchor=\"middle\">pobj</textPath>\n",
              "    </text>\n",
              "    <path class=\"displacy-arrowhead\" d=\"M640.0,244.0 L648.0,232.0 632.0,232.0\" fill=\"currentColor\"/>\n",
              "</g>\n",
              "\n",
              "<g class=\"displacy-arrow\">\n",
              "    <path class=\"displacy-arc\" id=\"arrow-7009ffb04a2240b4ba1063557651ccdd-0-6\" stroke-width=\"2px\" d=\"M670,242.0 C670,182.0 755.0,182.0 755.0,242.0\" fill=\"none\" stroke=\"currentColor\"/>\n",
              "    <text dy=\"1.25em\" style=\"font-size: 0.8em; letter-spacing: 1px\">\n",
              "        <textPath xlink:href=\"#arrow-7009ffb04a2240b4ba1063557651ccdd-0-6\" class=\"displacy-label\" startOffset=\"50%\" side=\"left\" fill=\"currentColor\" text-anchor=\"middle\">cc</textPath>\n",
              "    </text>\n",
              "    <path class=\"displacy-arrowhead\" d=\"M755.0,244.0 L763.0,232.0 747.0,232.0\" fill=\"currentColor\"/>\n",
              "</g>\n",
              "\n",
              "<g class=\"displacy-arrow\">\n",
              "    <path class=\"displacy-arc\" id=\"arrow-7009ffb04a2240b4ba1063557651ccdd-0-7\" stroke-width=\"2px\" d=\"M910,242.0 C910,122.0 1120.0,122.0 1120.0,242.0\" fill=\"none\" stroke=\"currentColor\"/>\n",
              "    <text dy=\"1.25em\" style=\"font-size: 0.8em; letter-spacing: 1px\">\n",
              "        <textPath xlink:href=\"#arrow-7009ffb04a2240b4ba1063557651ccdd-0-7\" class=\"displacy-label\" startOffset=\"50%\" side=\"left\" fill=\"currentColor\" text-anchor=\"middle\">det</textPath>\n",
              "    </text>\n",
              "    <path class=\"displacy-arrowhead\" d=\"M910,244.0 L902,232.0 918,232.0\" fill=\"currentColor\"/>\n",
              "</g>\n",
              "\n",
              "<g class=\"displacy-arrow\">\n",
              "    <path class=\"displacy-arc\" id=\"arrow-7009ffb04a2240b4ba1063557651ccdd-0-8\" stroke-width=\"2px\" d=\"M1030,242.0 C1030,182.0 1115.0,182.0 1115.0,242.0\" fill=\"none\" stroke=\"currentColor\"/>\n",
              "    <text dy=\"1.25em\" style=\"font-size: 0.8em; letter-spacing: 1px\">\n",
              "        <textPath xlink:href=\"#arrow-7009ffb04a2240b4ba1063557651ccdd-0-8\" class=\"displacy-label\" startOffset=\"50%\" side=\"left\" fill=\"currentColor\" text-anchor=\"middle\">compound</textPath>\n",
              "    </text>\n",
              "    <path class=\"displacy-arrowhead\" d=\"M1030,244.0 L1022,232.0 1038,232.0\" fill=\"currentColor\"/>\n",
              "</g>\n",
              "\n",
              "<g class=\"displacy-arrow\">\n",
              "    <path class=\"displacy-arc\" id=\"arrow-7009ffb04a2240b4ba1063557651ccdd-0-9\" stroke-width=\"2px\" d=\"M670,242.0 C670,62.0 1125.0,62.0 1125.0,242.0\" fill=\"none\" stroke=\"currentColor\"/>\n",
              "    <text dy=\"1.25em\" style=\"font-size: 0.8em; letter-spacing: 1px\">\n",
              "        <textPath xlink:href=\"#arrow-7009ffb04a2240b4ba1063557651ccdd-0-9\" class=\"displacy-label\" startOffset=\"50%\" side=\"left\" fill=\"currentColor\" text-anchor=\"middle\">conj</textPath>\n",
              "    </text>\n",
              "    <path class=\"displacy-arrowhead\" d=\"M1125.0,244.0 L1133.0,232.0 1117.0,232.0\" fill=\"currentColor\"/>\n",
              "</g>\n",
              "\n",
              "<g class=\"displacy-arrow\">\n",
              "    <path class=\"displacy-arc\" id=\"arrow-7009ffb04a2240b4ba1063557651ccdd-0-10\" stroke-width=\"2px\" d=\"M1270,242.0 C1270,182.0 1355.0,182.0 1355.0,242.0\" fill=\"none\" stroke=\"currentColor\"/>\n",
              "    <text dy=\"1.25em\" style=\"font-size: 0.8em; letter-spacing: 1px\">\n",
              "        <textPath xlink:href=\"#arrow-7009ffb04a2240b4ba1063557651ccdd-0-10\" class=\"displacy-label\" startOffset=\"50%\" side=\"left\" fill=\"currentColor\" text-anchor=\"middle\">aux</textPath>\n",
              "    </text>\n",
              "    <path class=\"displacy-arrowhead\" d=\"M1270,244.0 L1262,232.0 1278,232.0\" fill=\"currentColor\"/>\n",
              "</g>\n",
              "\n",
              "<g class=\"displacy-arrow\">\n",
              "    <path class=\"displacy-arc\" id=\"arrow-7009ffb04a2240b4ba1063557651ccdd-0-11\" stroke-width=\"2px\" d=\"M1390,242.0 C1390,182.0 1475.0,182.0 1475.0,242.0\" fill=\"none\" stroke=\"currentColor\"/>\n",
              "    <text dy=\"1.25em\" style=\"font-size: 0.8em; letter-spacing: 1px\">\n",
              "        <textPath xlink:href=\"#arrow-7009ffb04a2240b4ba1063557651ccdd-0-11\" class=\"displacy-label\" startOffset=\"50%\" side=\"left\" fill=\"currentColor\" text-anchor=\"middle\">dobj</textPath>\n",
              "    </text>\n",
              "    <path class=\"displacy-arrowhead\" d=\"M1475.0,244.0 L1483.0,232.0 1467.0,232.0\" fill=\"currentColor\"/>\n",
              "</g>\n",
              "\n",
              "<g class=\"displacy-arrow\">\n",
              "    <path class=\"displacy-arc\" id=\"arrow-7009ffb04a2240b4ba1063557651ccdd-0-12\" stroke-width=\"2px\" d=\"M1510,242.0 C1510,182.0 1595.0,182.0 1595.0,242.0\" fill=\"none\" stroke=\"currentColor\"/>\n",
              "    <text dy=\"1.25em\" style=\"font-size: 0.8em; letter-spacing: 1px\">\n",
              "        <textPath xlink:href=\"#arrow-7009ffb04a2240b4ba1063557651ccdd-0-12\" class=\"displacy-label\" startOffset=\"50%\" side=\"left\" fill=\"currentColor\" text-anchor=\"middle\">prep</textPath>\n",
              "    </text>\n",
              "    <path class=\"displacy-arrowhead\" d=\"M1595.0,244.0 L1603.0,232.0 1587.0,232.0\" fill=\"currentColor\"/>\n",
              "</g>\n",
              "\n",
              "<g class=\"displacy-arrow\">\n",
              "    <path class=\"displacy-arc\" id=\"arrow-7009ffb04a2240b4ba1063557651ccdd-0-13\" stroke-width=\"2px\" d=\"M1630,242.0 C1630,182.0 1715.0,182.0 1715.0,242.0\" fill=\"none\" stroke=\"currentColor\"/>\n",
              "    <text dy=\"1.25em\" style=\"font-size: 0.8em; letter-spacing: 1px\">\n",
              "        <textPath xlink:href=\"#arrow-7009ffb04a2240b4ba1063557651ccdd-0-13\" class=\"displacy-label\" startOffset=\"50%\" side=\"left\" fill=\"currentColor\" text-anchor=\"middle\">pobj</textPath>\n",
              "    </text>\n",
              "    <path class=\"displacy-arrowhead\" d=\"M1715.0,244.0 L1723.0,232.0 1707.0,232.0\" fill=\"currentColor\"/>\n",
              "</g>\n",
              "\n",
              "<g class=\"displacy-arrow\">\n",
              "    <path class=\"displacy-arc\" id=\"arrow-7009ffb04a2240b4ba1063557651ccdd-0-14\" stroke-width=\"2px\" d=\"M1750,242.0 C1750,182.0 1835.0,182.0 1835.0,242.0\" fill=\"none\" stroke=\"currentColor\"/>\n",
              "    <text dy=\"1.25em\" style=\"font-size: 0.8em; letter-spacing: 1px\">\n",
              "        <textPath xlink:href=\"#arrow-7009ffb04a2240b4ba1063557651ccdd-0-14\" class=\"displacy-label\" startOffset=\"50%\" side=\"left\" fill=\"currentColor\" text-anchor=\"middle\">prep</textPath>\n",
              "    </text>\n",
              "    <path class=\"displacy-arrowhead\" d=\"M1835.0,244.0 L1843.0,232.0 1827.0,232.0\" fill=\"currentColor\"/>\n",
              "</g>\n",
              "\n",
              "<g class=\"displacy-arrow\">\n",
              "    <path class=\"displacy-arc\" id=\"arrow-7009ffb04a2240b4ba1063557651ccdd-0-15\" stroke-width=\"2px\" d=\"M1870,242.0 C1870,182.0 1955.0,182.0 1955.0,242.0\" fill=\"none\" stroke=\"currentColor\"/>\n",
              "    <text dy=\"1.25em\" style=\"font-size: 0.8em; letter-spacing: 1px\">\n",
              "        <textPath xlink:href=\"#arrow-7009ffb04a2240b4ba1063557651ccdd-0-15\" class=\"displacy-label\" startOffset=\"50%\" side=\"left\" fill=\"currentColor\" text-anchor=\"middle\">pobj</textPath>\n",
              "    </text>\n",
              "    <path class=\"displacy-arrowhead\" d=\"M1955.0,244.0 L1963.0,232.0 1947.0,232.0\" fill=\"currentColor\"/>\n",
              "</g>\n",
              "\n",
              "<g class=\"displacy-arrow\">\n",
              "    <path class=\"displacy-arc\" id=\"arrow-7009ffb04a2240b4ba1063557651ccdd-0-16\" stroke-width=\"2px\" d=\"M2110,242.0 C2110,182.0 2195.0,182.0 2195.0,242.0\" fill=\"none\" stroke=\"currentColor\"/>\n",
              "    <text dy=\"1.25em\" style=\"font-size: 0.8em; letter-spacing: 1px\">\n",
              "        <textPath xlink:href=\"#arrow-7009ffb04a2240b4ba1063557651ccdd-0-16\" class=\"displacy-label\" startOffset=\"50%\" side=\"left\" fill=\"currentColor\" text-anchor=\"middle\">amod</textPath>\n",
              "    </text>\n",
              "    <path class=\"displacy-arrowhead\" d=\"M2110,244.0 L2102,232.0 2118,232.0\" fill=\"currentColor\"/>\n",
              "</g>\n",
              "\n",
              "<g class=\"displacy-arrow\">\n",
              "    <path class=\"displacy-arc\" id=\"arrow-7009ffb04a2240b4ba1063557651ccdd-0-17\" stroke-width=\"2px\" d=\"M2230,242.0 C2230,182.0 2315.0,182.0 2315.0,242.0\" fill=\"none\" stroke=\"currentColor\"/>\n",
              "    <text dy=\"1.25em\" style=\"font-size: 0.8em; letter-spacing: 1px\">\n",
              "        <textPath xlink:href=\"#arrow-7009ffb04a2240b4ba1063557651ccdd-0-17\" class=\"displacy-label\" startOffset=\"50%\" side=\"left\" fill=\"currentColor\" text-anchor=\"middle\">nsubj</textPath>\n",
              "    </text>\n",
              "    <path class=\"displacy-arrowhead\" d=\"M2230,244.0 L2222,232.0 2238,232.0\" fill=\"currentColor\"/>\n",
              "</g>\n",
              "</svg></span>"
            ],
            "text/plain": [
              "<IPython.core.display.HTML object>"
            ]
          },
          "metadata": {}
        },
        {
          "output_type": "display_data",
          "data": {
            "text/html": [
              "<span class=\"tex2jax_ignore\"><svg xmlns=\"http://www.w3.org/2000/svg\" xmlns:xlink=\"http://www.w3.org/1999/xlink\" xml:lang=\"en\" id=\"ae0f491d807f4ebcbeb005ff5667f8ec-0\" class=\"displacy\" width=\"2330\" height=\"377.0\" direction=\"ltr\" style=\"max-width: none; height: 377.0px; color: #000000; background: #ffffff; font-family: Arial; direction: ltr\">\n",
              "<text class=\"displacy-token\" fill=\"currentColor\" text-anchor=\"middle\" y=\"287.0\">\n",
              "    <tspan class=\"displacy-word\" fill=\"currentColor\" x=\"50\"> .</tspan>\n",
              "    <tspan class=\"displacy-tag\" dy=\"2em\" fill=\"currentColor\" x=\"50\">SPACE</tspan>\n",
              "</text>\n",
              "\n",
              "<text class=\"displacy-token\" fill=\"currentColor\" text-anchor=\"middle\" y=\"287.0\">\n",
              "    <tspan class=\"displacy-word\" fill=\"currentColor\" x=\"170\">and</tspan>\n",
              "    <tspan class=\"displacy-tag\" dy=\"2em\" fill=\"currentColor\" x=\"170\">CCONJ</tspan>\n",
              "</text>\n",
              "\n",
              "<text class=\"displacy-token\" fill=\"currentColor\" text-anchor=\"middle\" y=\"287.0\">\n",
              "    <tspan class=\"displacy-word\" fill=\"currentColor\" x=\"290\">partners</tspan>\n",
              "    <tspan class=\"displacy-tag\" dy=\"2em\" fill=\"currentColor\" x=\"290\">NOUN</tspan>\n",
              "</text>\n",
              "\n",
              "<text class=\"displacy-token\" fill=\"currentColor\" text-anchor=\"middle\" y=\"287.0\">\n",
              "    <tspan class=\"displacy-word\" fill=\"currentColor\" x=\"410\">are</tspan>\n",
              "    <tspan class=\"displacy-tag\" dy=\"2em\" fill=\"currentColor\" x=\"410\">AUX</tspan>\n",
              "</text>\n",
              "\n",
              "<text class=\"displacy-token\" fill=\"currentColor\" text-anchor=\"middle\" y=\"287.0\">\n",
              "    <tspan class=\"displacy-word\" fill=\"currentColor\" x=\"530\">presenting</tspan>\n",
              "    <tspan class=\"displacy-tag\" dy=\"2em\" fill=\"currentColor\" x=\"530\">VERB</tspan>\n",
              "</text>\n",
              "\n",
              "<text class=\"displacy-token\" fill=\"currentColor\" text-anchor=\"middle\" y=\"287.0\">\n",
              "    <tspan class=\"displacy-word\" fill=\"currentColor\" x=\"650\">findings</tspan>\n",
              "    <tspan class=\"displacy-tag\" dy=\"2em\" fill=\"currentColor\" x=\"650\">NOUN</tspan>\n",
              "</text>\n",
              "\n",
              "<text class=\"displacy-token\" fill=\"currentColor\" text-anchor=\"middle\" y=\"287.0\">\n",
              "    <tspan class=\"displacy-word\" fill=\"currentColor\" x=\"770\">from</tspan>\n",
              "    <tspan class=\"displacy-tag\" dy=\"2em\" fill=\"currentColor\" x=\"770\">ADP</tspan>\n",
              "</text>\n",
              "\n",
              "<text class=\"displacy-token\" fill=\"currentColor\" text-anchor=\"middle\" y=\"287.0\">\n",
              "    <tspan class=\"displacy-word\" fill=\"currentColor\" x=\"890\">the</tspan>\n",
              "    <tspan class=\"displacy-tag\" dy=\"2em\" fill=\"currentColor\" x=\"890\">DET</tspan>\n",
              "</text>\n",
              "\n",
              "<text class=\"displacy-token\" fill=\"currentColor\" text-anchor=\"middle\" y=\"287.0\">\n",
              "    <tspan class=\"displacy-word\" fill=\"currentColor\" x=\"1010\">FISH4ACP</tspan>\n",
              "    <tspan class=\"displacy-tag\" dy=\"2em\" fill=\"currentColor\" x=\"1010\">PROPN</tspan>\n",
              "</text>\n",
              "\n",
              "<text class=\"displacy-token\" fill=\"currentColor\" text-anchor=\"middle\" y=\"287.0\">\n",
              "    <tspan class=\"displacy-word\" fill=\"currentColor\" x=\"1130\">analysis</tspan>\n",
              "    <tspan class=\"displacy-tag\" dy=\"2em\" fill=\"currentColor\" x=\"1130\">NOUN</tspan>\n",
              "</text>\n",
              "\n",
              "<text class=\"displacy-token\" fill=\"currentColor\" text-anchor=\"middle\" y=\"287.0\">\n",
              "    <tspan class=\"displacy-word\" fill=\"currentColor\" x=\"1250\">of</tspan>\n",
              "    <tspan class=\"displacy-tag\" dy=\"2em\" fill=\"currentColor\" x=\"1250\">ADP</tspan>\n",
              "</text>\n",
              "\n",
              "<text class=\"displacy-token\" fill=\"currentColor\" text-anchor=\"middle\" y=\"287.0\">\n",
              "    <tspan class=\"displacy-word\" fill=\"currentColor\" x=\"1370\">sprats,</tspan>\n",
              "    <tspan class=\"displacy-tag\" dy=\"2em\" fill=\"currentColor\" x=\"1370\">NOUN</tspan>\n",
              "</text>\n",
              "\n",
              "<text class=\"displacy-token\" fill=\"currentColor\" text-anchor=\"middle\" y=\"287.0\">\n",
              "    <tspan class=\"displacy-word\" fill=\"currentColor\" x=\"1490\">sardines</tspan>\n",
              "    <tspan class=\"displacy-tag\" dy=\"2em\" fill=\"currentColor\" x=\"1490\">NOUN</tspan>\n",
              "</text>\n",
              "\n",
              "<text class=\"displacy-token\" fill=\"currentColor\" text-anchor=\"middle\" y=\"287.0\">\n",
              "    <tspan class=\"displacy-word\" fill=\"currentColor\" x=\"1610\">and</tspan>\n",
              "    <tspan class=\"displacy-tag\" dy=\"2em\" fill=\"currentColor\" x=\"1610\">CCONJ</tspan>\n",
              "</text>\n",
              "\n",
              "<text class=\"displacy-token\" fill=\"currentColor\" text-anchor=\"middle\" y=\"287.0\">\n",
              "    <tspan class=\"displacy-word\" fill=\"currentColor\" x=\"1730\">perch</tspan>\n",
              "    <tspan class=\"displacy-tag\" dy=\"2em\" fill=\"currentColor\" x=\"1730\">NOUN</tspan>\n",
              "</text>\n",
              "\n",
              "<text class=\"displacy-token\" fill=\"currentColor\" text-anchor=\"middle\" y=\"287.0\">\n",
              "    <tspan class=\"displacy-word\" fill=\"currentColor\" x=\"1850\">to</tspan>\n",
              "    <tspan class=\"displacy-tag\" dy=\"2em\" fill=\"currentColor\" x=\"1850\">ADP</tspan>\n",
              "</text>\n",
              "\n",
              "<text class=\"displacy-token\" fill=\"currentColor\" text-anchor=\"middle\" y=\"287.0\">\n",
              "    <tspan class=\"displacy-word\" fill=\"currentColor\" x=\"1970\">Lake</tspan>\n",
              "    <tspan class=\"displacy-tag\" dy=\"2em\" fill=\"currentColor\" x=\"1970\">PROPN</tspan>\n",
              "</text>\n",
              "\n",
              "<text class=\"displacy-token\" fill=\"currentColor\" text-anchor=\"middle\" y=\"287.0\">\n",
              "    <tspan class=\"displacy-word\" fill=\"currentColor\" x=\"2090\">Tanganyika</tspan>\n",
              "    <tspan class=\"displacy-tag\" dy=\"2em\" fill=\"currentColor\" x=\"2090\">PROPN</tspan>\n",
              "</text>\n",
              "\n",
              "<text class=\"displacy-token\" fill=\"currentColor\" text-anchor=\"middle\" y=\"287.0\">\n",
              "    <tspan class=\"displacy-word\" fill=\"currentColor\" x=\"2210\">fi…</tspan>\n",
              "    <tspan class=\"displacy-tag\" dy=\"2em\" fill=\"currentColor\" x=\"2210\">PROPN</tspan>\n",
              "</text>\n",
              "\n",
              "<g class=\"displacy-arrow\">\n",
              "    <path class=\"displacy-arc\" id=\"arrow-ae0f491d807f4ebcbeb005ff5667f8ec-0-0\" stroke-width=\"2px\" d=\"M190,242.0 C190,62.0 525.0,62.0 525.0,242.0\" fill=\"none\" stroke=\"currentColor\"/>\n",
              "    <text dy=\"1.25em\" style=\"font-size: 0.8em; letter-spacing: 1px\">\n",
              "        <textPath xlink:href=\"#arrow-ae0f491d807f4ebcbeb005ff5667f8ec-0-0\" class=\"displacy-label\" startOffset=\"50%\" side=\"left\" fill=\"currentColor\" text-anchor=\"middle\">cc</textPath>\n",
              "    </text>\n",
              "    <path class=\"displacy-arrowhead\" d=\"M190,244.0 L182,232.0 198,232.0\" fill=\"currentColor\"/>\n",
              "</g>\n",
              "\n",
              "<g class=\"displacy-arrow\">\n",
              "    <path class=\"displacy-arc\" id=\"arrow-ae0f491d807f4ebcbeb005ff5667f8ec-0-1\" stroke-width=\"2px\" d=\"M310,242.0 C310,122.0 520.0,122.0 520.0,242.0\" fill=\"none\" stroke=\"currentColor\"/>\n",
              "    <text dy=\"1.25em\" style=\"font-size: 0.8em; letter-spacing: 1px\">\n",
              "        <textPath xlink:href=\"#arrow-ae0f491d807f4ebcbeb005ff5667f8ec-0-1\" class=\"displacy-label\" startOffset=\"50%\" side=\"left\" fill=\"currentColor\" text-anchor=\"middle\">nsubj</textPath>\n",
              "    </text>\n",
              "    <path class=\"displacy-arrowhead\" d=\"M310,244.0 L302,232.0 318,232.0\" fill=\"currentColor\"/>\n",
              "</g>\n",
              "\n",
              "<g class=\"displacy-arrow\">\n",
              "    <path class=\"displacy-arc\" id=\"arrow-ae0f491d807f4ebcbeb005ff5667f8ec-0-2\" stroke-width=\"2px\" d=\"M430,242.0 C430,182.0 515.0,182.0 515.0,242.0\" fill=\"none\" stroke=\"currentColor\"/>\n",
              "    <text dy=\"1.25em\" style=\"font-size: 0.8em; letter-spacing: 1px\">\n",
              "        <textPath xlink:href=\"#arrow-ae0f491d807f4ebcbeb005ff5667f8ec-0-2\" class=\"displacy-label\" startOffset=\"50%\" side=\"left\" fill=\"currentColor\" text-anchor=\"middle\">aux</textPath>\n",
              "    </text>\n",
              "    <path class=\"displacy-arrowhead\" d=\"M430,244.0 L422,232.0 438,232.0\" fill=\"currentColor\"/>\n",
              "</g>\n",
              "\n",
              "<g class=\"displacy-arrow\">\n",
              "    <path class=\"displacy-arc\" id=\"arrow-ae0f491d807f4ebcbeb005ff5667f8ec-0-3\" stroke-width=\"2px\" d=\"M550,242.0 C550,182.0 635.0,182.0 635.0,242.0\" fill=\"none\" stroke=\"currentColor\"/>\n",
              "    <text dy=\"1.25em\" style=\"font-size: 0.8em; letter-spacing: 1px\">\n",
              "        <textPath xlink:href=\"#arrow-ae0f491d807f4ebcbeb005ff5667f8ec-0-3\" class=\"displacy-label\" startOffset=\"50%\" side=\"left\" fill=\"currentColor\" text-anchor=\"middle\">dobj</textPath>\n",
              "    </text>\n",
              "    <path class=\"displacy-arrowhead\" d=\"M635.0,244.0 L643.0,232.0 627.0,232.0\" fill=\"currentColor\"/>\n",
              "</g>\n",
              "\n",
              "<g class=\"displacy-arrow\">\n",
              "    <path class=\"displacy-arc\" id=\"arrow-ae0f491d807f4ebcbeb005ff5667f8ec-0-4\" stroke-width=\"2px\" d=\"M550,242.0 C550,122.0 760.0,122.0 760.0,242.0\" fill=\"none\" stroke=\"currentColor\"/>\n",
              "    <text dy=\"1.25em\" style=\"font-size: 0.8em; letter-spacing: 1px\">\n",
              "        <textPath xlink:href=\"#arrow-ae0f491d807f4ebcbeb005ff5667f8ec-0-4\" class=\"displacy-label\" startOffset=\"50%\" side=\"left\" fill=\"currentColor\" text-anchor=\"middle\">prep</textPath>\n",
              "    </text>\n",
              "    <path class=\"displacy-arrowhead\" d=\"M760.0,244.0 L768.0,232.0 752.0,232.0\" fill=\"currentColor\"/>\n",
              "</g>\n",
              "\n",
              "<g class=\"displacy-arrow\">\n",
              "    <path class=\"displacy-arc\" id=\"arrow-ae0f491d807f4ebcbeb005ff5667f8ec-0-5\" stroke-width=\"2px\" d=\"M910,242.0 C910,122.0 1120.0,122.0 1120.0,242.0\" fill=\"none\" stroke=\"currentColor\"/>\n",
              "    <text dy=\"1.25em\" style=\"font-size: 0.8em; letter-spacing: 1px\">\n",
              "        <textPath xlink:href=\"#arrow-ae0f491d807f4ebcbeb005ff5667f8ec-0-5\" class=\"displacy-label\" startOffset=\"50%\" side=\"left\" fill=\"currentColor\" text-anchor=\"middle\">det</textPath>\n",
              "    </text>\n",
              "    <path class=\"displacy-arrowhead\" d=\"M910,244.0 L902,232.0 918,232.0\" fill=\"currentColor\"/>\n",
              "</g>\n",
              "\n",
              "<g class=\"displacy-arrow\">\n",
              "    <path class=\"displacy-arc\" id=\"arrow-ae0f491d807f4ebcbeb005ff5667f8ec-0-6\" stroke-width=\"2px\" d=\"M1030,242.0 C1030,182.0 1115.0,182.0 1115.0,242.0\" fill=\"none\" stroke=\"currentColor\"/>\n",
              "    <text dy=\"1.25em\" style=\"font-size: 0.8em; letter-spacing: 1px\">\n",
              "        <textPath xlink:href=\"#arrow-ae0f491d807f4ebcbeb005ff5667f8ec-0-6\" class=\"displacy-label\" startOffset=\"50%\" side=\"left\" fill=\"currentColor\" text-anchor=\"middle\">compound</textPath>\n",
              "    </text>\n",
              "    <path class=\"displacy-arrowhead\" d=\"M1030,244.0 L1022,232.0 1038,232.0\" fill=\"currentColor\"/>\n",
              "</g>\n",
              "\n",
              "<g class=\"displacy-arrow\">\n",
              "    <path class=\"displacy-arc\" id=\"arrow-ae0f491d807f4ebcbeb005ff5667f8ec-0-7\" stroke-width=\"2px\" d=\"M790,242.0 C790,62.0 1125.0,62.0 1125.0,242.0\" fill=\"none\" stroke=\"currentColor\"/>\n",
              "    <text dy=\"1.25em\" style=\"font-size: 0.8em; letter-spacing: 1px\">\n",
              "        <textPath xlink:href=\"#arrow-ae0f491d807f4ebcbeb005ff5667f8ec-0-7\" class=\"displacy-label\" startOffset=\"50%\" side=\"left\" fill=\"currentColor\" text-anchor=\"middle\">pobj</textPath>\n",
              "    </text>\n",
              "    <path class=\"displacy-arrowhead\" d=\"M1125.0,244.0 L1133.0,232.0 1117.0,232.0\" fill=\"currentColor\"/>\n",
              "</g>\n",
              "\n",
              "<g class=\"displacy-arrow\">\n",
              "    <path class=\"displacy-arc\" id=\"arrow-ae0f491d807f4ebcbeb005ff5667f8ec-0-8\" stroke-width=\"2px\" d=\"M1150,242.0 C1150,182.0 1235.0,182.0 1235.0,242.0\" fill=\"none\" stroke=\"currentColor\"/>\n",
              "    <text dy=\"1.25em\" style=\"font-size: 0.8em; letter-spacing: 1px\">\n",
              "        <textPath xlink:href=\"#arrow-ae0f491d807f4ebcbeb005ff5667f8ec-0-8\" class=\"displacy-label\" startOffset=\"50%\" side=\"left\" fill=\"currentColor\" text-anchor=\"middle\">prep</textPath>\n",
              "    </text>\n",
              "    <path class=\"displacy-arrowhead\" d=\"M1235.0,244.0 L1243.0,232.0 1227.0,232.0\" fill=\"currentColor\"/>\n",
              "</g>\n",
              "\n",
              "<g class=\"displacy-arrow\">\n",
              "    <path class=\"displacy-arc\" id=\"arrow-ae0f491d807f4ebcbeb005ff5667f8ec-0-9\" stroke-width=\"2px\" d=\"M1270,242.0 C1270,182.0 1355.0,182.0 1355.0,242.0\" fill=\"none\" stroke=\"currentColor\"/>\n",
              "    <text dy=\"1.25em\" style=\"font-size: 0.8em; letter-spacing: 1px\">\n",
              "        <textPath xlink:href=\"#arrow-ae0f491d807f4ebcbeb005ff5667f8ec-0-9\" class=\"displacy-label\" startOffset=\"50%\" side=\"left\" fill=\"currentColor\" text-anchor=\"middle\">pobj</textPath>\n",
              "    </text>\n",
              "    <path class=\"displacy-arrowhead\" d=\"M1355.0,244.0 L1363.0,232.0 1347.0,232.0\" fill=\"currentColor\"/>\n",
              "</g>\n",
              "\n",
              "<g class=\"displacy-arrow\">\n",
              "    <path class=\"displacy-arc\" id=\"arrow-ae0f491d807f4ebcbeb005ff5667f8ec-0-10\" stroke-width=\"2px\" d=\"M1390,242.0 C1390,182.0 1475.0,182.0 1475.0,242.0\" fill=\"none\" stroke=\"currentColor\"/>\n",
              "    <text dy=\"1.25em\" style=\"font-size: 0.8em; letter-spacing: 1px\">\n",
              "        <textPath xlink:href=\"#arrow-ae0f491d807f4ebcbeb005ff5667f8ec-0-10\" class=\"displacy-label\" startOffset=\"50%\" side=\"left\" fill=\"currentColor\" text-anchor=\"middle\">conj</textPath>\n",
              "    </text>\n",
              "    <path class=\"displacy-arrowhead\" d=\"M1475.0,244.0 L1483.0,232.0 1467.0,232.0\" fill=\"currentColor\"/>\n",
              "</g>\n",
              "\n",
              "<g class=\"displacy-arrow\">\n",
              "    <path class=\"displacy-arc\" id=\"arrow-ae0f491d807f4ebcbeb005ff5667f8ec-0-11\" stroke-width=\"2px\" d=\"M1510,242.0 C1510,182.0 1595.0,182.0 1595.0,242.0\" fill=\"none\" stroke=\"currentColor\"/>\n",
              "    <text dy=\"1.25em\" style=\"font-size: 0.8em; letter-spacing: 1px\">\n",
              "        <textPath xlink:href=\"#arrow-ae0f491d807f4ebcbeb005ff5667f8ec-0-11\" class=\"displacy-label\" startOffset=\"50%\" side=\"left\" fill=\"currentColor\" text-anchor=\"middle\">cc</textPath>\n",
              "    </text>\n",
              "    <path class=\"displacy-arrowhead\" d=\"M1595.0,244.0 L1603.0,232.0 1587.0,232.0\" fill=\"currentColor\"/>\n",
              "</g>\n",
              "\n",
              "<g class=\"displacy-arrow\">\n",
              "    <path class=\"displacy-arc\" id=\"arrow-ae0f491d807f4ebcbeb005ff5667f8ec-0-12\" stroke-width=\"2px\" d=\"M1510,242.0 C1510,122.0 1720.0,122.0 1720.0,242.0\" fill=\"none\" stroke=\"currentColor\"/>\n",
              "    <text dy=\"1.25em\" style=\"font-size: 0.8em; letter-spacing: 1px\">\n",
              "        <textPath xlink:href=\"#arrow-ae0f491d807f4ebcbeb005ff5667f8ec-0-12\" class=\"displacy-label\" startOffset=\"50%\" side=\"left\" fill=\"currentColor\" text-anchor=\"middle\">conj</textPath>\n",
              "    </text>\n",
              "    <path class=\"displacy-arrowhead\" d=\"M1720.0,244.0 L1728.0,232.0 1712.0,232.0\" fill=\"currentColor\"/>\n",
              "</g>\n",
              "\n",
              "<g class=\"displacy-arrow\">\n",
              "    <path class=\"displacy-arc\" id=\"arrow-ae0f491d807f4ebcbeb005ff5667f8ec-0-13\" stroke-width=\"2px\" d=\"M550,242.0 C550,2.0 1850.0,2.0 1850.0,242.0\" fill=\"none\" stroke=\"currentColor\"/>\n",
              "    <text dy=\"1.25em\" style=\"font-size: 0.8em; letter-spacing: 1px\">\n",
              "        <textPath xlink:href=\"#arrow-ae0f491d807f4ebcbeb005ff5667f8ec-0-13\" class=\"displacy-label\" startOffset=\"50%\" side=\"left\" fill=\"currentColor\" text-anchor=\"middle\">prep</textPath>\n",
              "    </text>\n",
              "    <path class=\"displacy-arrowhead\" d=\"M1850.0,244.0 L1858.0,232.0 1842.0,232.0\" fill=\"currentColor\"/>\n",
              "</g>\n",
              "\n",
              "<g class=\"displacy-arrow\">\n",
              "    <path class=\"displacy-arc\" id=\"arrow-ae0f491d807f4ebcbeb005ff5667f8ec-0-14\" stroke-width=\"2px\" d=\"M1990,242.0 C1990,182.0 2075.0,182.0 2075.0,242.0\" fill=\"none\" stroke=\"currentColor\"/>\n",
              "    <text dy=\"1.25em\" style=\"font-size: 0.8em; letter-spacing: 1px\">\n",
              "        <textPath xlink:href=\"#arrow-ae0f491d807f4ebcbeb005ff5667f8ec-0-14\" class=\"displacy-label\" startOffset=\"50%\" side=\"left\" fill=\"currentColor\" text-anchor=\"middle\">compound</textPath>\n",
              "    </text>\n",
              "    <path class=\"displacy-arrowhead\" d=\"M1990,244.0 L1982,232.0 1998,232.0\" fill=\"currentColor\"/>\n",
              "</g>\n",
              "\n",
              "<g class=\"displacy-arrow\">\n",
              "    <path class=\"displacy-arc\" id=\"arrow-ae0f491d807f4ebcbeb005ff5667f8ec-0-15\" stroke-width=\"2px\" d=\"M1870,242.0 C1870,122.0 2080.0,122.0 2080.0,242.0\" fill=\"none\" stroke=\"currentColor\"/>\n",
              "    <text dy=\"1.25em\" style=\"font-size: 0.8em; letter-spacing: 1px\">\n",
              "        <textPath xlink:href=\"#arrow-ae0f491d807f4ebcbeb005ff5667f8ec-0-15\" class=\"displacy-label\" startOffset=\"50%\" side=\"left\" fill=\"currentColor\" text-anchor=\"middle\">pobj</textPath>\n",
              "    </text>\n",
              "    <path class=\"displacy-arrowhead\" d=\"M2080.0,244.0 L2088.0,232.0 2072.0,232.0\" fill=\"currentColor\"/>\n",
              "</g>\n",
              "</svg></span>"
            ],
            "text/plain": [
              "<IPython.core.display.HTML object>"
            ]
          },
          "metadata": {}
        }
      ]
    },
    {
      "cell_type": "markdown",
      "metadata": {
        "id": "A-dmVMeGUW-o"
      },
      "source": [
        "# spaCY"
      ]
    },
    {
      "cell_type": "code",
      "metadata": {
        "colab": {
          "base_uri": "https://localhost:8080/"
        },
        "id": "6OpoO7lY6_0E",
        "outputId": "8f9ead32-b356-4704-e2b3-ed0fb7e62b16"
      },
      "source": [
        "from pathlib import Path\n",
        "from spacy import displacy\n",
        "\n",
        "nlp = spacy.load('en_core_web_sm', parse=True, tag=True, entity=True)\n",
        "\n",
        "sentence_nlp = nlp(tweets_sw_removal[-9])\n",
        "svg = displacy.render(sentence_nlp, style=\"dep\")\n",
        "\n",
        "output_path = Path(\"/content/dependency_plot.svg\") # you can keep there only \"dependency_plot.svg\" if you want to save it in the same folder where you run the script \n",
        "output_path.open(\"w\", encoding=\"utf-8\").write(svg)\n",
        "\n",
        "#svg = displacy.render(nlp(tweets_sw_removal[-9]), style='dep', jupyter = True, options = {'distance': 120})\n",
        "#output_path = Path(\"/content/dependency_plot.svg\")\n",
        "#output_path.open(\"w\", encoding=\"utf-8\").write(svg)"
      ],
      "execution_count": null,
      "outputs": [
        {
          "output_type": "execute_result",
          "data": {
            "text/plain": [
              "15834"
            ]
          },
          "metadata": {},
          "execution_count": 69
        }
      ]
    },
    {
      "cell_type": "code",
      "metadata": {
        "colab": {
          "base_uri": "https://localhost:8080/",
          "height": 52
        },
        "id": "r25U_xhgUY0x",
        "outputId": "2d63ca0c-bea0-4f63-8bd7-92da8144248c"
      },
      "source": [
        "displacy.render(nlp(tweets_sw_removal[-9]), jupyter=True, style='ent')\n",
        "#displacy.render(nlp(tweets_sw_removal[80]), jupyter=True, style='ent')"
      ],
      "execution_count": null,
      "outputs": [
        {
          "output_type": "display_data",
          "data": {
            "text/html": [
              "<span class=\"tex2jax_ignore\"><div class=\"entities\" style=\"line-height: 2.5; direction: ltr\"> The floodings of \n",
              "<mark class=\"entity\" style=\"background: #ff9561; padding: 0.45em 0.6em; margin: 0 0.25em; line-height: 1; border-radius: 0.35em;\">\n",
              "    Lake Tanganyika\n",
              "    <span style=\"font-size: 0.8em; font-weight: bold; line-height: 1; border-radius: 0.35em; text-transform: uppercase; vertical-align: middle; margin-left: 0.5rem\">LOC</span>\n",
              "</mark>\n",
              " and the \n",
              "<mark class=\"entity\" style=\"background: #feca74; padding: 0.45em 0.6em; margin: 0 0.25em; line-height: 1; border-radius: 0.35em;\">\n",
              "    Rusizi\n",
              "    <span style=\"font-size: 0.8em; font-weight: bold; line-height: 1; border-radius: 0.35em; text-transform: uppercase; vertical-align: middle; margin-left: 0.5rem\">GPE</span>\n",
              "</mark>\n",
              " river have displaced \n",
              "<mark class=\"entity\" style=\"background: #e4e7d2; padding: 0.45em 0.6em; margin: 0 0.25em; line-height: 1; border-radius: 0.35em;\">\n",
              "    thousands\n",
              "    <span style=\"font-size: 0.8em; font-weight: bold; line-height: 1; border-radius: 0.35em; text-transform: uppercase; vertical-align: middle; margin-left: 0.5rem\">CARDINAL</span>\n",
              "</mark>\n",
              " of people in \n",
              "<mark class=\"entity\" style=\"background: #feca74; padding: 0.45em 0.6em; margin: 0 0.25em; line-height: 1; border-radius: 0.35em;\">\n",
              "    Burundi\n",
              "    <span style=\"font-size: 0.8em; font-weight: bold; line-height: 1; border-radius: 0.35em; text-transform: uppercase; vertical-align: middle; margin-left: 0.5rem\">GPE</span>\n",
              "</mark>\n",
              ". Urgent resources are…</div></span>"
            ],
            "text/plain": [
              "<IPython.core.display.HTML object>"
            ]
          },
          "metadata": {}
        }
      ]
    },
    {
      "cell_type": "code",
      "metadata": {
        "colab": {
          "base_uri": "https://localhost:8080/",
          "height": 35
        },
        "id": "xw3lIuWcTdF2",
        "outputId": "e57165c0-4866-48e8-837f-f15e6ce8ca0e"
      },
      "source": [
        "tweets_sw_removal[-9]"
      ],
      "execution_count": null,
      "outputs": [
        {
          "output_type": "execute_result",
          "data": {
            "application/vnd.google.colaboratory.intrinsic+json": {
              "type": "string"
            },
            "text/plain": [
              "' The floodings of Lake Tanganyika and the Rusizi river have displaced thousands of people in Burundi. Urgent resources are…'"
            ]
          },
          "metadata": {},
          "execution_count": 60
        }
      ]
    },
    {
      "cell_type": "code",
      "metadata": {
        "id": "FMTebJXJ7kwG"
      },
      "source": [
        "#article = ''\n",
        "\n",
        "# articles\n",
        "\n",
        "#for index in range(len(tweets_sw_removal)):\n",
        "#  article = article.join(tweets_sw_removal[index])\n",
        "\n",
        "#article "
      ],
      "execution_count": null,
      "outputs": []
    },
    {
      "cell_type": "code",
      "metadata": {
        "id": "kqpoOGVXLvBt"
      },
      "source": [
        "# construct a list of nlp\n",
        "nlp_list = []\n",
        "for tweet in tweets_sw_removal:\n",
        "  nlp_list.append(nlp(tweet))\n"
      ],
      "execution_count": null,
      "outputs": []
    },
    {
      "cell_type": "code",
      "metadata": {
        "id": "sot_gWOTN_IE"
      },
      "source": [
        "# Counter \n",
        "items = []\n",
        "labels = []\n",
        "dict_nlp = {}\n",
        "dict_entity = {}\n",
        "for nlp_l in nlp_list:\n",
        "  for item in nlp_l.ents:\n",
        "    items.append(item.text)\n",
        "    dict_nlp[str(item)] = item.label_\n",
        "    labels.append(item.label_)\n",
        "\n",
        "    if item.label_ in dict_entity.keys():\n",
        "      temp_list = dict_entity[item.label_]\n",
        "      temp_list.append(item.text)\n",
        "      dict_entity[item.label_] = temp_list\n",
        "    else:\n",
        "      dict_entity[item.label_] = [item.text]\n"
      ],
      "execution_count": null,
      "outputs": []
    },
    {
      "cell_type": "code",
      "metadata": {
        "colab": {
          "base_uri": "https://localhost:8080/"
        },
        "id": "csRFTbZTYCws",
        "outputId": "6ae5bfa1-9394-43e4-dc1d-ea9dd89d6534"
      },
      "source": [
        "dict_entity['GPE']"
      ],
      "execution_count": null,
      "outputs": [
        {
          "output_type": "execute_result",
          "data": {
            "text/plain": [
              "['Tanzania', 'Tangany', 'Tanzania', 'Congo', 'Shungwaya', 'Tanzania', 'Uganda', 'Tanzania', 'Tanzania', 'Tanzania', 'Tanganyika', 'Tanzania', 'Zambia', 'Malawi', 'Mozambique', 'Lakes Mal', 'Tanzania', 'Tanganyika', 'Tanzania', 'Tangany', 'Tanzania', 'Tanganyika', 'Tanzania', 'Tanganyika', 'Tanzania', 'Tanganyika', 'Bantou', 'Rusizi', 'Burundi', 'London', 'UK', 'Rusizi', 'Burundi', 'Burundi', 'Burundi', 'Burundi', 'Kas', 'the Republic of Burundi', 'Rusizi', 'Burundi', 'VisitEastAfrica', 'Rusizi', 'Burundi', 'VisitEastAfrica', 'Rusizi', 'Burundi']"
            ]
          },
          "metadata": {},
          "execution_count": 92
        }
      ]
    },
    {
      "cell_type": "code",
      "metadata": {
        "id": "XjvPNyZrWHjs",
        "colab": {
          "base_uri": "https://localhost:8080/"
        },
        "outputId": "469ee6d7-6ec9-43f7-c5a9-96f4e89e9674"
      },
      "source": [
        "dict_entity['ORG']"
      ],
      "execution_count": null,
      "outputs": [
        {
          "output_type": "execute_result",
          "data": {
            "text/plain": [
              "['L ’de de a net par', 'L ’de de a net par', 'L ’de de a net par', 'L ’de de a net par', 'L ’de de a net par', 'L ’de de a net par', 'L ’de de a net par', 'L ’de de a net par', 'L ’de de a net par', 'L ’de de a net par', 'L ’de de a net par', 'L ’de de a net par', 'L ’de de a net par', \"n '\", 'Tanganyika African National Union', 'MAJALIWA', 'NIMERIDHISHWA NA', 'Waziri Mkuu', 'maende', 'hapana ni', 'MAJALIWA', 'NIMERIDHISHWA NA', 'Waziri Mkuu', 'maende', 'Tanganyika African National Union', 'Tanganyika African National Union', 'NIMERIDHISHWA NA', 'Waziri Mkuu', 'Tanganyika African National Union', 'na', 'irudisha nchi', 'Tanganyika African National Un', 'Wildlife', \"de l '\", \"office s '\", 'Thanks to Fund', 'the office sa', 'SAMBA']"
            ]
          },
          "metadata": {},
          "execution_count": 121
        }
      ]
    },
    {
      "cell_type": "code",
      "metadata": {
        "colab": {
          "base_uri": "https://localhost:8080/"
        },
        "id": "dVn0dHVRXW3J",
        "outputId": "59feeb7e-32b6-4a79-b77b-ae9009b3c609"
      },
      "source": [
        "dict_entity['GPE'] # GPE is geoplotical entity"
      ],
      "execution_count": null,
      "outputs": [
        {
          "output_type": "execute_result",
          "data": {
            "text/plain": [
              "['Tanzania', 'Tangany', 'Tanzania', 'Congo', 'Shungwaya', 'Tanzania', 'Uganda', 'Tanzania', 'Tanzania', 'Tanzania', 'Tanganyika', 'Tanzania', 'Zambia', 'Malawi', 'Mozambique', 'Lakes Mal', 'Tanzania', 'Tanganyika', 'Tanzania', 'Tangany', 'Tanzania', 'Tanganyika', 'Tanzania', 'Tanganyika', 'Tanzania', 'Tanganyika', 'Bantou', 'Rusizi', 'Burundi', 'London', 'UK', 'Rusizi', 'Burundi', 'Burundi', 'Burundi', 'Burundi', 'Kas', 'the Republic of Burundi', 'Rusizi', 'Burundi', 'VisitEastAfrica', 'Rusizi', 'Burundi', 'VisitEastAfrica', 'Rusizi', 'Burundi']"
            ]
          },
          "metadata": {},
          "execution_count": 82
        }
      ]
    },
    {
      "cell_type": "code",
      "metadata": {
        "colab": {
          "base_uri": "https://localhost:8080/",
          "height": 35
        },
        "id": "-lRZRCa0WpgM",
        "outputId": "bc39943a-87a2-4b14-b95b-50442ba47c61"
      },
      "source": [
        "dict_nitem.label_"
      ],
      "execution_count": null,
      "outputs": [
        {
          "output_type": "execute_result",
          "data": {
            "application/vnd.google.colaboratory.intrinsic+json": {
              "type": "string"
            },
            "text/plain": [
              "'ORG'"
            ]
          },
          "metadata": {},
          "execution_count": 69
        }
      ]
    },
    {
      "cell_type": "code",
      "metadata": {
        "colab": {
          "base_uri": "https://localhost:8080/"
        },
        "id": "jnlnjbjEOWFg",
        "outputId": "4e25a534-57e7-44e0-9439-7704a5e4c7b8"
      },
      "source": [
        "most_common_recognition = Counter(items).most_common(20)\n",
        "for recognized in most_common_recognition:\n",
        "  print(recognized)"
      ],
      "execution_count": null,
      "outputs": [
        {
          "output_type": "stream",
          "text": [
            "('L ’de de a net par', 13)\n",
            "('Tanzania', 12)\n",
            "('Lake Tanganyika', 12)\n",
            "('Burundi', 8)\n",
            "('Tanganyika', 7)\n",
            "('4', 7)\n",
            "('Rusizi', 5)\n",
            "('thousands', 5)\n",
            "('Tanganyika African National Union', 4)\n",
            "('Tan', 4)\n",
            "('25', 3)\n",
            "('08', 3)\n",
            "('NIMERIDHISHWA NA', 3)\n",
            "('BANDARI YA KAREMA', 3)\n",
            "('Waziri Mkuu', 3)\n",
            "('Agosti 25', 3)\n",
            "('1', 3)\n",
            "('Mum', 2)\n",
            "('Tangany', 2)\n",
            "('MAJALIWA', 2)\n"
          ],
          "name": "stdout"
        }
      ]
    },
    {
      "cell_type": "code",
      "metadata": {
        "colab": {
          "base_uri": "https://localhost:8080/",
          "height": 35
        },
        "id": "a0laihXhQvky",
        "outputId": "85147df6-d38f-4b6a-ee9c-22eacdbc1df6"
      },
      "source": [
        "dict_nlp['Tanganyika African National Union']"
      ],
      "execution_count": null,
      "outputs": [
        {
          "output_type": "execute_result",
          "data": {
            "application/vnd.google.colaboratory.intrinsic+json": {
              "type": "string"
            },
            "text/plain": [
              "'ORG'"
            ]
          },
          "metadata": {},
          "execution_count": 50
        }
      ]
    },
    {
      "cell_type": "code",
      "metadata": {
        "colab": {
          "base_uri": "https://localhost:8080/"
        },
        "id": "fLKxtJwPNrml",
        "outputId": "eb9023d7-68ea-4411-ae05-50367dbdfb26"
      },
      "source": [
        "\n",
        "Counter(labels)"
      ],
      "execution_count": null,
      "outputs": [
        {
          "output_type": "execute_result",
          "data": {
            "text/plain": [
              "Counter({'GPE': 46, 'ORG': 38, 'PERSON': 32, 'CARDINAL': 28, 'FAC': 11, 'DATE': 7, 'LOC': 6, 'PRODUCT': 5, 'NORP': 2, 'ORDINAL': 1, 'WORK_OF_ART': 1})"
            ]
          },
          "metadata": {},
          "execution_count": 67
        }
      ]
    },
    {
      "cell_type": "code",
      "metadata": {
        "colab": {
          "base_uri": "https://localhost:8080/"
        },
        "id": "2EHGhlwnW3Yx",
        "outputId": "b98c9d82-bba8-4b56-98d5-b73b0252603e"
      },
      "source": [
        "dict_entity['GPE']"
      ],
      "execution_count": null,
      "outputs": [
        {
          "output_type": "execute_result",
          "data": {
            "text/plain": [
              "['Burundi']"
            ]
          },
          "metadata": {},
          "execution_count": 71
        }
      ]
    },
    {
      "cell_type": "code",
      "metadata": {
        "id": "rC3S8jY13v4_"
      },
      "source": [
        "nlp(tweets_sw_removal[3])\n",
        "displacy.render(nlp(tweets_sw_removal[3]), jupyter=True, style='ent')"
      ],
      "execution_count": null,
      "outputs": []
    },
    {
      "cell_type": "code",
      "metadata": {
        "id": "unprB_qK3rlf"
      },
      "source": [
        "sentences = [x for x in article.sents]\n",
        "print(sentences[20])"
      ],
      "execution_count": null,
      "outputs": []
    },
    {
      "cell_type": "code",
      "metadata": {
        "id": "hA8QQrTA32xA"
      },
      "source": [
        "displacy.render(nlp(str(sentences[20])), style='dep', jupyter = True, options = {'distance': 120})"
      ],
      "execution_count": null,
      "outputs": []
    },
    {
      "cell_type": "code",
      "metadata": {
        "id": "YZKjulkH3-I6"
      },
      "source": [
        "dict([(str(x), x.label_) for x in nlp(str(sentences[20])).ents])"
      ],
      "execution_count": null,
      "outputs": []
    },
    {
      "cell_type": "code",
      "metadata": {
        "id": "Hua3U7N33w8T"
      },
      "source": [
        "displacy.render(nlp(str(sentences[20])), jupyter=True, style='ent')"
      ],
      "execution_count": null,
      "outputs": []
    },
    {
      "cell_type": "code",
      "metadata": {
        "id": "U8iMg_R04C2E"
      },
      "source": [
        "print([(x, x.ent_iob_, x.ent_type_) for x in sentences[20]])"
      ],
      "execution_count": null,
      "outputs": []
    },
    {
      "cell_type": "code",
      "metadata": {
        "id": "1AiU5zA43xM1"
      },
      "source": [
        "displacy.render(nlp(str(article)), jupyter=True, style='ent')"
      ],
      "execution_count": null,
      "outputs": []
    },
    {
      "cell_type": "code",
      "metadata": {
        "id": "DIt_e8l-zgBb"
      },
      "source": [
        "tweets_sw_removal = stopwords_removal_naive(raw_tweets_en)"
      ],
      "execution_count": null,
      "outputs": []
    },
    {
      "cell_type": "code",
      "metadata": {
        "id": "8cWK8hdj59Pl"
      },
      "source": [
        ""
      ],
      "execution_count": null,
      "outputs": []
    },
    {
      "cell_type": "code",
      "metadata": {
        "id": "XWm2CwlKnuF7"
      },
      "source": [
        "tweets_sw_removal = stopwords_removal_naive(raw_tweets_en)"
      ],
      "execution_count": null,
      "outputs": []
    }
  ]
}